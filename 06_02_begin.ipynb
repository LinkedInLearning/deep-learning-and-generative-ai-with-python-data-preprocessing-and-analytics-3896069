{
  "nbformat": 4,
  "nbformat_minor": 0,
  "metadata": {
    "colab": {
      "provenance": [],
      "toc_visible": true,
      "authorship_tag": "ABX9TyMDs4ZGrq2wPDN9d/bnU6Dg",
      "include_colab_link": true
    },
    "kernelspec": {
      "name": "python3",
      "display_name": "Python 3"
    },
    "language_info": {
      "name": "python"
    }
  },
  "cells": [
    {
      "cell_type": "markdown",
      "metadata": {
        "id": "view-in-github",
        "colab_type": "text"
      },
      "source": [
        "<a href=\"https://colab.research.google.com/github/LinkedInLearning/deep-learning-and-generative-ai-with-python-data-preprocessing-and-analytics-3896069/blob/main/06_02_begin.ipynb\" target=\"_parent\"><img src=\"https://colab.research.google.com/assets/colab-badge.svg\" alt=\"Open In Colab\"/></a>"
      ]
    },
    {
      "cell_type": "markdown",
      "source": [
        "# Predict Customer LIfeTime Value"
      ],
      "metadata": {
        "id": "JiRGyIRAAlvT"
      }
    },
    {
      "cell_type": "markdown",
      "source": [
        "## Load and Check the Data"
      ],
      "metadata": {
        "id": "FAracfUvo-D8"
      }
    },
    {
      "cell_type": "code",
      "execution_count": null,
      "metadata": {
        "id": "H7WTuwC3Aku8"
      },
      "outputs": [],
      "source": [
        "# Necessary imports\n",
        "import pandas as pd  # Importing pandas for data manipulation and analysis\n",
        "import matplotlib.pyplot as plt  # Importing matplotlib for plotting graphs\n",
        "import seaborn as sns  # Importing seaborn for statistical data visualization\n",
        "import numpy as np  # Importing numpy for numerical operations\n",
        "\n",
        "# Importing necessary functions and classes from scikit-learn for model selection and preprocessing\n",
        "from sklearn.model_selection import train_test_split  # Function to split the data into train and test sets\n",
        "from sklearn.preprocessing import StandardScaler  # Class to standardize features by removing the mean and scaling to unit variance\n",
        "\n",
        "# Importing necessary functions and classes from Keras for building neural network models\n",
        "from keras.models import Sequential  # Sequential model is a linear stack of layers\n",
        "from keras.layers import Input, Dense  # Input layer to specify the shape of input data, Dense layer is a fully connected layer\n",
        "from keras.callbacks import EarlyStopping  # Callback to stop training when a monitored metric has stopped improving\n",
        "\n",
        "\n"
      ]
    },
    {
      "cell_type": "code",
      "source": [
        "#Load the dataset\n",
        "\n",
        "cleaned_df = pd.read_csv('/content/eda_telecom.csv')"
      ],
      "metadata": {
        "id": "DdX2jEjEAm0a"
      },
      "execution_count": null,
      "outputs": []
    },
    {
      "cell_type": "code",
      "source": [
        "cleaned_df.head()"
      ],
      "metadata": {
        "id": "MO78v9zXBQRW"
      },
      "execution_count": null,
      "outputs": []
    },
    {
      "cell_type": "code",
      "source": [
        "# Note that CLV and Total Services Used were feature engineered in the previous lab.\n",
        "\n",
        "cleaned_df.info()"
      ],
      "metadata": {
        "id": "QP_A5V2-BSLl"
      },
      "execution_count": null,
      "outputs": []
    },
    {
      "cell_type": "code",
      "source": [
        "#Check for missing valuese\n",
        "\n",
        "import missingno as msno\n",
        "\n",
        "msno.bar(cleaned_df)"
      ],
      "metadata": {
        "id": "XDJfOVDnBXXc"
      },
      "execution_count": null,
      "outputs": []
    },
    {
      "cell_type": "markdown",
      "source": [
        "## Build and Train a Keras Sequential Model\n",
        "\n",
        "Where all of the hard work of data preprocessing and EDA is realized!"
      ],
      "metadata": {
        "id": "LnSDcizmGSU0"
      }
    },
    {
      "cell_type": "code",
      "source": [
        "\n",
        "# Select features and target\n",
        "X = cleaned_df[['monthly_charge', 'total_charges', 'total_services_used']]\n",
        "y = cleaned_df['CLV']  # target column (remember tenure*total revenue is CLV)\n",
        "\n",
        "# Split the data\n",
        "X_train, X_test, y_train, y_test = train_test_split(X, y, test_size=0.2, random_state=42)\n",
        "\n",
        "# Standardize the data\n",
        "scaler = StandardScaler()\n",
        "X_train = scaler.fit_transform(X_train)\n",
        "X_test = scaler.transform(X_test)\n",
        "\n",
        "# Assuming X_train is already defined and its shape is known\n",
        "input_shape = X_train.shape[1]\n",
        "\n",
        "# Build the model\n",
        "model = Sequential()\n",
        "model.add(Input(shape=(input_shape,)))\n",
        "model.add(Dense(64, activation='relu'))\n",
        "model.add(Dense(32, activation='relu'))\n",
        "model.add(Dense(1, activation='linear'))\n",
        "\n",
        "# Compile the model\n",
        "model.compile(optimizer='adam', loss='mean_squared_error')\n",
        "\n",
        "# Early stopping to avoid overfitting\n",
        "early_stopping = EarlyStopping(monitor='val_loss', patience=10, restore_best_weights=True)\n",
        "\n",
        "# Train the model\n",
        "history = model.fit(X_train, y_train, epochs=100, batch_size=32, validation_split=0.2, callbacks=[early_stopping])\n",
        "\n",
        "# Evaluate the model\n",
        "loss = model.evaluate(X_test, y_test)\n",
        "print(f'Model Loss: {loss}')\n",
        "\n",
        "# Predict CLV\n",
        "y_pred = model.predict(X_test)\n",
        "\n",
        "# Print model summary\n",
        "model.summary()\n",
        "\n",
        "\n"
      ],
      "metadata": {
        "id": "mUU0NOySFggU"
      },
      "execution_count": null,
      "outputs": []
    },
    {
      "cell_type": "markdown",
      "source": [
        "# Using Data Visualization to Evaluate Model Performance"
      ],
      "metadata": {
        "id": "7aXCH6lwJ6hz"
      }
    },
    {
      "cell_type": "markdown",
      "source": [
        "## Exercise #1. Plot the Training and Validation Loss Curves\n",
        "\n",
        "\n"
      ],
      "metadata": {
        "id": "y8GITIeBKToN"
      }
    },
    {
      "cell_type": "code",
      "source": [
        "# Plotting the loss curves\n",
        "\n",
        "\n",
        "\n",
        "\n",
        "\n",
        "\n"
      ],
      "metadata": {
        "id": "Gez7Bn-yJMRN"
      },
      "execution_count": null,
      "outputs": []
    },
    {
      "cell_type": "markdown",
      "source": [
        "Convergence of Training and Validation Loss:\n",
        "\n",
        "The training and validation loss curves indicate that your model is learning effectively and generalizing well to the validation data. The absence of overfitting and the stabilization of loss values suggest that the training process has been successful.\n",
        "\n",
        "After around 20 epochs, both the training and validation loss curves start to flatten out and converge towards each other. This indicates that the model is approaching its optimal performance, and further training is resulting in only marginal improvements.\n",
        "No Overfitting:\n",
        "\n",
        "The training and validation loss curves are very close to each other throughout the training process. This suggests that there is no significant overfitting happening, as the model's performance on the training data is similar to its performance on the validation data."
      ],
      "metadata": {
        "id": "PeVVl3XAJ8KE"
      }
    },
    {
      "cell_type": "markdown",
      "source": [
        "## Exercise #2. Plot the Residual Distribution"
      ],
      "metadata": {
        "id": "I9qfK0yCJ_Go"
      }
    },
    {
      "cell_type": "code",
      "source": [
        "# Calculate residuals\n",
        "residuals = y_test - y_pred.flatten()\n",
        "\n",
        "#-------------------------------------------------------------------\n",
        "# Enter code to Plot residuals\n",
        "\n",
        "\n",
        "\n",
        "\n",
        "\n",
        "\n",
        "\n",
        "\n"
      ],
      "metadata": {
        "id": "7bzZijamJF3-"
      },
      "execution_count": null,
      "outputs": []
    },
    {
      "cell_type": "markdown",
      "source": [
        "Overall, the model seems to be performing reasonably well, with most residuals clustered around zero. This suggests that the model is generally making accurate predictions."
      ],
      "metadata": {
        "id": "6S-PmtopKket"
      }
    },
    {
      "cell_type": "markdown",
      "source": [
        "## Exercise #3. Plot Predicted vs. Actual Values"
      ],
      "metadata": {
        "id": "a_5MJ2cnKduZ"
      }
    },
    {
      "cell_type": "code",
      "source": [
        "# Plot predicted vs actual values\n",
        "\n",
        "\n",
        "\n",
        "\n",
        "\n"
      ],
      "metadata": {
        "id": "jIPpHYXaJaXV"
      },
      "execution_count": null,
      "outputs": []
    },
    {
      "cell_type": "markdown",
      "source": [
        "This scatter plot compares the predicted values against the actual values for your regression model. The plot indicates that your regression model performs well, with many predictions close to the actual values and no significant systematic bias. However, there are some outliers that suggest room for improvement. By investigating these outliers and potentially adjusting the model, you can further enhance the accuracy and robustness of your predictions."
      ],
      "metadata": {
        "id": "qJPb4nUuJomf"
      }
    },
    {
      "cell_type": "markdown",
      "source": [],
      "metadata": {
        "id": "EZz4isvmMQWs"
      }
    },
    {
      "cell_type": "markdown",
      "source": [],
      "metadata": {
        "id": "x_coX5-nMQcb"
      }
    },
    {
      "cell_type": "code",
      "source": [
        "'''=== predict the CLV =='''\n",
        "\n",
        "# predict SALES using the test data\n",
        "test_predictions = model.predict(X_test).flatten()\n",
        "print(test_predictions)"
      ],
      "metadata": {
        "colab": {
          "base_uri": "https://localhost:8080/"
        },
        "id": "ssPc8i7jMQo-",
        "outputId": "3ec704db-279a-408b-94b2-58cbf8af42d7"
      },
      "execution_count": null,
      "outputs": [
        {
          "output_type": "stream",
          "name": "stdout",
          "text": [
            "\u001b[1m44/44\u001b[0m \u001b[32m━━━━━━━━━━━━━━━━━━━━\u001b[0m\u001b[37m\u001b[0m \u001b[1m0s\u001b[0m 2ms/step\n",
            "[101281.945   89833.21    19983.3    ... 232015.23   536954.9\n",
            "   4688.1963]\n"
          ]
        }
      ]
    },
    {
      "cell_type": "markdown",
      "source": [
        "Predicted CLV: The array represents the predicted CLV for each customer in the test set.\n",
        "\n",
        "High Values: Customers with high predicted values (e.g., 536,955) are expected to generate a high lifetime value for the company.\n",
        "Low Values: Customers with low predicted values (e.g., 4,688) are expected to generate a lower lifetime value."
      ],
      "metadata": {
        "id": "besLPVi5MmME"
      }
    },
    {
      "cell_type": "markdown",
      "source": [
        "![image.png](data:image/png;base64,iVBORw0KGgoAAAANSUhEUgAABRYAAAJbCAIAAAAe2F+1AAAAAXNSR0IArs4c6QAAAARnQU1BAACxjwv8YQUAAAAJcEhZcwAAGdYAABnWARjRyu0AAAASdEVYdFNvZnR3YXJlAEdyZWVuc2hvdF5VCAUAAMA+SURBVHhe7N3/kxRVnu//zz/g70vEBLFhBLExxN4Jg+VOdMiyBiwsF7mgvQsrsFe+rAOCgo4giDKjoODYewFRGBYHgUEXBhtlYAa8LIggoE4jwvJN0YFpvogKrTLAIBjQzudlv5Ozh5NfOquphqzm+fihoyvrVOaprJPvfL8rszL/vz8DAAAAAIAcKKEBAAAAAMiFEhoAAAAAgFwooQEAAAAAyIUSGgAAAACAXCihAQAAAADIhRIaAAAAAIBcKKEBAAAAAMiFEhoAAAAAgFwooQEAAAAAyIUSGgAAAACAXCihAQAAAADIhRIaAAAAAIBcKKEBAAAAAMiFEhoAAAAAgFwooQEAAAAAyIUSGkBRnDt3bt26dWvXrv3yyy+jSQAAAECRVHYJ/cwzz9x02SuvvBJNzc1/+bvvvhtNLbzGxsa6uroxY8Z06tRJPW/fvv2Pf/zjM2fORE8jHxVpd955p336+oea7dr4+OOPb731VlvtDz744Ndffx098ec/nzp1asiQIfbUwIEDT5w4ET1RmRSR7L1IC6ITAAAAiqn8JbTS4ihtzE0ptRLr6PWluAFL6IaGhvvuuy/q9GUtrgA3bdrUrl27aC433TR37tzoiRtA5ZbQfhUaaN++vd6LBvb+/fsbGxujFxRJRgm9fft2fzSuXbs2eqIylbGE1kd54MCBn//854MGDbIvzkTrqlevXqNGjVqxYsXJkyejpk38RWswRFOvdOnSpSlTpkSNbrpp2rRpmhI9l27jxo3RC266acSIEWfPno2eAAAAuGFQQkcqooQ+d+7cuHHjoh57WlYBKmNW3hzNosngwYNPnToVPd3WtckS2jdgwICPPvooek1hZJTQH3zwQefOne2pDh067Nq1K3qiMpWlhFbx/NZbb7mBmiYYwHlKaPHr4erq6i+++CJ6IkVQdS9ZsiR6AgAA4EZCCR2piBLaP2jcsWPHl1566USTX/3qVy0ofY8ePdqjRw+bm1HdsmPHjujpsjp9+vSWLVuUf8+ePTuadL21+RJaOnXqtG3btuhlxZBRQn/77be//e1vq6qqNLaXLl168eLF6ImrcB0H3tWX0GfPnn3iiSeiWWRqWQn92Wef9evXz5opsDQbA/32nTt3/uCDD6InAAAAbiTlL6F3796tnNW3cePGQYMGWeJ1yy23KL2LnrjsnXfeadkJgTdaCT1jxoyouzfdtGDBApUc0RMtsnr16mhenpznc5ZE6zaae2ZCf421jRK6W7dur7/+erQhbdnym9/8Zvjw4f7p0H369Dl+/Hj0ygLIKKHL7voOvKssoU+cOOF+Ge507Nhx6NCh//f//t9Zs2bpr/7XFE1vWQkdnIdSU1OTHVL8r/BGjRp17ty56AkAAIAbybW4nJiyZHdousUHnBPdaCV0GTt84cKFCRMm2Kz+6Z/+aeDAgfZ/v379Pvvss6hRmVBCl5dfhcZ7ripo/fr1VlmZQp1wSwmdR/wnGwMGDHj77bfjR+YbGxv379+vStg/DyVnCS1+VZz9O46g3m5BvAUAAGgbKKEjN1oJ7f/udM6cOXPnzrX/ZePGjVGjMqGELq/sElpUResztQZSqMs+UUI3S8Xq7Nmzo1c2nWJdU1NT0orKX0J/8cUX1dXV1jL7dxz+WdzdunU7fPhw9AQAAMANhhI6cqOV0EuWLLH5WN4s+semTJgw4cKFC1G7cqCELq9mS2jZtWuX+0Bvv/32Tz/9NHrieqOEbtbevXvd11sya9asUn8Wnr+E/vbbb1WfR00zr8nvH68ue4gAAACoIAUqod2NW+666y53GmqXLl2UrtXV1SXeoccvKS1JVbOtW7fee++9NodOnTrp5Sonmn15WkVq50k+9dRT6om11D+PPvroVd406MyZMytXrhw1apSbrbo6bNiwFStWxO/w7PczUanl9OnTp++++257rf7RQ39KzkNMSr6PHTu2YMEC//Pq3r271pU+Rz3rFzCJXAXlV7NpI6TZckhlxvvvv6+nNKv27dtbS78/UbvLWlBC+180ZJz16jcLqkQtpba21v2EVTQANAxWr16dvybJU0L7bfxV6k+3vmkYv/nmm3379tWUgQMH6jO1lkZrVWteG5G7l5JWqYquI0eOxFepY6/yb10+ZMiQt956S8uKdyB6Te5PxD5ofay9evWyok7zHzBgwKJFi+wl+QeeT9udtj710waPzVMfVvYd1/Ws2qilvUrvV8FBK0dPtayEDs6XVn9acKXA/CW0aHW52tiiQfSEJ6i0NVyjJwAAAG48RSmhVeW67DnRxIkT41ev8WtLZY1fffVV4j2flCAq4c5+ufLIaKrn888/j9+E2dGytMSoaW6qlJRzu4IkTk/9+te/9utzv5+JEjufwa/xFi5caBP1j02RZjN+vfHHH3/cZd4Bq3/yVzJ+7ZQ2Qvy5xauCDRs23HbbbdHTMern7Nmzg0N5OQs2n4oZVc72Eq3AxLsuqdjwT6J2xYaWvnTpUiu04nJ2wPhVaNoL/Tb+KvWna/1ro9BodJ9jsPI/+ugjFYf2VEAvSTu7WFvNiBEjonZXmjp1qlaa34FSS+jdu3endUlsYOQfeEbbmra4tE1S0zW64t8XaIoW5N6Lr2PHjvrcly9fHj0upYQOrpLdsl9VlFRC+6P6lltu2bt3b/SExz/fu0ePHkePHo2eAAAAuPEUpYT2c7408RMa/dryxRdfTKyfneyXx6vQgwcP3nHHHdHTKbTEki5Lq8aqIqIXpwtKPr+fieKdz+AfUPLvTOP/Ojr7crtKoPv3728tE1n9k7+S8WuntBHizy1eFTS7irRKVSv6hVCegi3O/9F44lmvfkHizqAOft0al78D4pfBaS/0T+T22wQl9LZt29zxcPFXfl1dnWuZJr5NnThxwl2aLtGPfvSjqqoq+7+kElqfXXCZtDgbGPkHnqj/8+fPd18iJNJCt27dau0dTcnojJ7yv33LX0Jv377ddabFZ+CXVEJrxfpf+rjv1Hxapa5XU6ZM0XiOngAAALjxFKuEHj58+DvvvOOyW1Ujyv9c6ha/E6lfONkZ0QMGDNi0aVNDQ4Pyb5UH/gErVRTBPXL9lwdVqBbt7ijTvn17FUt2PqfSzfr6evXTnpLFixf7hVmG+FWCJk+evH//fnVVHd6yZYs/W/V28+bN9sI//elPaiN++b1hwwabKN988421zMM/zOWXyvpHD2162sEoUVddiShaORMnTtyxY4e6oae08rXOrf5Rr5p696W6GrVuOg5pE+X06dO26vS/q53SRkizJbTW5/jx49VtWxua8/Hjx/1vVYKLjfsLjRdsaTR/rRx7VeJluvza1d0hzP96olOnTqtXr3aDXL3VGJg3b56GnE1pVrMldFAUTZo0yY0Q/7Wq8R555BH737iVf+TIkZ49e9pEdXj58uXW4cbGxp07d7qvlrTO/cOkFy5ceOyxx+wp0diYOXPm4cOH1cNPPvlElWpwpLekEloDwC9ZVYdrpbmZL1myRDO3gZF/4MmaNWtchNHQ1buzE0DUMb1rt8Tg3mD++pHbbrvtN7/5zYkTJzRzjRCNQzdPk7+E9qtf/4MrSUkltPinpcRHtdaV+9JN70vbePQEAADADakoJfRvf/tbZWYur3X818qrr74aPdHEr4ElfkxYD/0iKkhJ/ZcHJbS72pZSxuDopXz++efuMGx1dfUXX3wRPZFJubWro5Saq0IOZqsKxL/zc/xnkBkdzs+/LFBwuyM/8048xKoOq26JWjT9ajp+MrPehT4mv+fZ1a+o8HC1U8tK6EWLFu3evTt64Dl58uRdd91lr9K73r59e/RES0to/4uG+Hc64g5Ta3HuM9IKsYly9Tf0braE9g+QqhuqEqMnrnytak4VTqqH33///YtNNDbq6+v9n+NqPvEDsAcOHHAz8ctgvxJLfOH+/fs1ZqyB5C+h/a+0ZOzYsfHfUGirDOJDswPP/zpp4MCBqoGjJ5roY0o8GVvT/W8o4i9UEa4Xuq1M8pfQfgRI7HMepZbQ/qUQ4qPaP4s7+B4KAADgBlSgy4mlWbt2rb1WgnRQD6MnYoeJHP8AYHBipP9yvyJVvu4OtKad0ux+ORwUZmmCtFuFaGId5S9a1UhQoKZ1OL9vvvlm0qRJNof4Z3H48GFX4agbQQEvfsmRWCMlaraS8WuntBHS7EzS+Kde+5VMRsGWzX29IkFp5Jci/gr0S5rWK6FVuWl4z549u733i+uRI0f6F8TyXyv6uFUPR89d5g8DdyDdpylTpkyxBl27dj106JAm6k35V5xKOzvDXxX5S2j/e594yZqm2TGzevVqe1YzTzy4qvWpoGFtxo0bd/78eU30S0rFlsTzNYLv/oJxksHfxksa5z5/Jeecib+ZBN+s+d+MJI4HAACAG0oFlNAZebCfbip9T0zZ/aUHRan/cr8i9c/FTfxloGzbts0aSJ782C+usleCf1mvYOlpHc7Pr47id6bRQ020Z1VUxBexceNGe1biL0/TbCXj105lL6H9csL/pDIKtmz+OgyKQP80b/+z83/g2qlTp3Xr1l288ifEJQnK4AzxCjl4bVAsGf9Lq7TLWS1btixqcXko5hzhH330Uam/hfYrdsl/OejsMeN/nZT2q+Nz586NGTPG2rgu+fEheAs+fxUVv4T2h67/phRU3Xd/iTEBAADgRlO4ElqNlfQrcZ87d+64ceP69OnjH1IL0kE/3QzO4fT5zfwUMG26f9ptHjNmzIheme7QoUNdu3a19om/oXUy8v60Dufn59aJpYhfPsWPOPmHqtQymtqcjHdk/NrpKkvoP/3pT7t371aN+txzz40aNcrd98iUpYT2v2gIrk7svv4IzoY9c+bMyJEj7SljP+U9duxYC45I5yyhBwwYcPDgweg1l/mvTVvV/rnEedimp/WgtWFTMka4v9pzltB+cV7S5aCzx8ypU6eyr4oXcMfb/W0k7Ss28Zeev4T2N7Hp06e3YHhIC0pofV7uOur+wPDPi0k8MwUAAOBGU5QSurGx8a233vKv/pUoSAf1MHois6RMa5Y23U9A88iTpPqlS8aRK/EPB7lzR03O95vG/x1vHvHfPbasA2oZvSZlXfm1U9oIyZ6JytpVq1apYI5apChLCS1+EeW+SvCLkPhHfPz4cf/XvEbl/ejRoxNvW53BH0uJ+vbtq7WReI6A/9q0d+1/ynnYWs05wv3VnrOETpverOwx4882Dzcy/fjgj6iAv/SMZgH/+7vs79oy+D1M3OIS+b9QcN+v+Wdxz5kzp2UlPQAAQFtSiBJapd3EiROtga979+6DBg0aO3Zs9DiWDvq5fkZFl9YsbbqfgHbp0uWO5syfPz96ZbqcBYb4Z7rmv/5ZHn5xnlNwqLllHVDL6DWtU0KfOHEisTpVRT2sSTSpfCW0/xNZd48f/1f3iUf40+r89u3bL126NP+p3f5Y6tat2+uvv76lyfvvv9/Q0JAxtMR/7ZgxYxJ/5+9/ytoGo1Gezi5XlnOE+6u9OCW0PoI+ffpE7yfF0KFD6+vr9UI/PmTUxv7SM5oF/LPE41f2ysnvYeIWl8gfwPYzDf8sbvVK5XTUFAAA4AZ2/UtoZWmLFy+2Z8Xua3Xau+tMRh7s5/rBDasc/xePygLz/BY6Z4pckjyli8n5fv0O5+SfI5pT8INnvwNpv5KNy3hHJs/PaNNmosrT3etLZbPd1+pPf/pT9HT6p9niwkxUM7trVruf0bqDeGk/rDXq8L59+yZOnOj/QkE9z78+/bFUas/zFLotG2Z55iz++d4tKKGz120ge+ClLa5ZOeODf6pC/jDinzgtGtst+Nm838PELS6Rf5aKnTDvb5j6Rw+jpgAAADew619C+1lacPVgk5EH+7n+smXLoqlX8i+fG/yQMq1U8C8VlnaVslL5P7zs1q3b4cOHoydi/MuJBT/wTutwHn5q3rlz5xUrVtihy7hVq1a5Wijoqn+FpPxndWZXMpI9QoxfkPgz8UuyxHojreBpcQVl3DWi9Vf/++VHzqsWNzQ0+Hdcyyg7A61dQrfsOlj+kfmMQtc/MThnCa11667pVdKx0OyB5882bdQl8i+q585BCPjHbyX/atQL/fvG5b/uva9lJbT4L9QWl+fCigAAADea619C+zl9PNtTQrlgwQJ7VoIGehg9kVJ+y5o1a6zUkSBl91/uV6R+VdazZ88jR45ET1wF/7ilpN3yJyh0g9M40zqch9qnrYeAf9xe/Is2+ym1quv41aoS+ZVM4hWSzp8/7xeT8eOxF7wreIk/DPyZxwsVVdQ//elPo6fLWkL7X83U1NS4YVxSjffJJ5+487rz98HfZErtuf/atGHgf8rxm5On8X8KLomnsvunDEjOElr8EyjGjx+fMXp9zQ48f7Zp95mL838QkfZ12PHjx/v06WNtJH8JLQo4CjvRK5su4b5ly5acfTMtLqH94TFlypTZs2fb/y0+pRwAAKDtKVYJHb9P0oEDB5Sk2rMSpIN+San6cPny5Y2NjdFzTYKXB2l9WkUalLsPPfRQ4kV9tKx169b5Z4Zn84+/dezYcfPmzUFarAJj1qxZ1kAee+yxYG2kdbhZwTtqNqH3D/n6d8b2j7WK6qv4vbjV51dffdWvu/xKJu0KSX4xM3bsWLdE0VrSutIai55OL6HjB8a3bt3qv7CMJbQW5A4z3n333f/xH/9h/ydetVjd8E9/cPwjt/37989ZrLZ2CR18yjNmzAjGodHE1157zS5SbfzrUWm7C+6npTW2cuVKtwlI/hLa/5mutvRnn3023qXPP/88OGuj2YHnzzZxkzQNDQ16a66rwfoZN26cP1xFD3/yk59ETzcpqYSWFStWuC+8RP8//vjjwbX9jILGvn37tHX7g6fFJbTWqvuuqm/fvu7rPD8IAAAA3OCufwntH81Tpvjcc89ZLqiM7fXXX3fpvgnSQb+kFL188uTJ+/fvV/J94sQJVdT+y+PH0zIq0r1797rcWpTQr1+/Xi9Xhq3KWSm1iky7fnj+UlbJbk1Njc1Q2rdv/7Of/cx6K++8887w4cOj55IqEMnocDa/VMtzQMm/9fEtt9yitRE98ec/79y50y9KO3XqpOpX7fUWtFq0lrSugvrHv0CafcT6dGTNmjXueuP+9wsycuRILVQz+eSTT2bPnu3/bFj8YeDXhOqYPnTL9fVhvfTSS35XpYwltLg+qwPuYvKJ57tquerJ888/rzLPijT9PX78uIarvUpynv4trV1Cy8aNG/0Szq5QYL8w1zDWh/KrX/2qV69empW/OccPn7788sv6oNVDVdp6s5rnzTff7Oacv4TW6vJPbxY10DZoM1d/5s+fr8UF8aHZgRccFbdNUl21a/ipb9o8NU99dkFX/XNbRJ/+tm3b1BPRPzYY/PFcagmtjmnY+4swvXv3fvLJJ2c1UcfuuusuG+HB6vJL6LFjx9oPNOL0mca/Vli9enX0So9/KgoAAMANrhCXEwuSY58KuRdffDF6kFlCjxs3zi96A6VWpOrVihUrgsotUUml7FdffeVfYDyNioHEq6NldDibf1Q5z51y/INR4h/d1T9KsoPSNBAk9Kpp/aN2jl+W6J/x48dHT8Tok/UHiT8M1NXHHnsseiJm4MCB/oH98pbQ/s/4TdrXE35Jk0jjM+dZ8XINSui0Ei4Q35yDw6cBDZulS5emdSD7E9Eo8svdREF8yDPwVFHHL+ceF3Q1e7iK5vnv//7v0YPSS2jRR6B1lScESbC6mh1vJv7xif/1mUlsBgAAcMO6/iW0pBWWVkmqVoweZ5bQy5cvX79+fWJp17Nnz8TTrbMrUtWKmzdvvu2226IWSQYPHmz3uclPa2Pu3LkZmfGAAQM++uijqPWVsjucJqiHc14WyD8YFZycrDXzu9/9LmPNqHANDvirt/o0o6cvC8qStGJGL9yyZUvGMDh69Ki7VJtPn7sGm19OlLeEFv/abxL/JYLJLmn0ieevn0VvylWhpfbcf22w/gMq4Wpra+OfmqNSWXMIlp7xDYuWW1dXl9GBZj8RrdsXXnghY9t59tlno6aX5Rl4ij+PP/54duW/ePHi4ByBjJJ+xIgRDQ0NaQMvP61MBS53NnWG++67z78SRPZ4cxKjcRAuJG1UAwAA3JgKUUKLUrTf/OY3qqAsP+7SpcvMmTOVhuqpjNrJLyktSVU1VVNTo5drimalGa5YscLO7I3LU5HqtZrDsGHDXCKufwYNGvTzn//8wIEDwU+v8zt58uSiRYvceZjSvXv3p556ShlzxjxbVkL7RUtwVnYG/2CUqov44vSRbdy4cdSoUba2Rf8o21a5m5hwHzlyRG/QGmuGffv2Xbp0abwsUdmmktINA32a9ivijGEgeuGSJUuqq6utEOrdu/eCBQvsc0+rZJot2PLwf0wrwY/tHa0QrZYpU6b06tXLeqi/+r/ZTzyR/4G2XgltNPNgoOpD0eawcOHCY8eOqcaL2l3JNkMNabW3z3r+/PnWz4wO5PxEgi7Z/FU8a86J/ckz8PRCbc5qFnxA48aNW7duXeJ1CkUfXF1d3ZgxYyw4qD9Dhw7dsGGDjf+0gVcq9U2rWuNZYcdFIeuetj5tL/EPwl90hrRo7J+0ImmjGgAA4MZ0LUpoAAAAAADaAEpoAAAAAAByoYQGAAAAACAXSmgAAAAAAHKhhAYAAAAAIBdKaAAAAAAAcqGEBgAAAAAgF0poAAAAAAByoYQGAAAAACAXSmgAAAAAAHKhhAYAAAAAIBdKaAAAAAAAcqGEBgAAAAAgF0poAAAAAAByoYQGAAAAACAXSmgAAAAAAHKhhAYAAAAAIBdKaAAAAAAAcqGEBgAAAAAgF0poAAAAAAByoYQGAAAAACAXSmgAAAAAAHKhhAYAAAAAIBdKaAAAAAAAcqGEBgAAAAAgF0poAAAAAAByoYQGAAAAACAXSmgAAAAAAHK5FiX06dOnDx06tGvXrnfeeWcrAAAAAABXTQWmykwVmyo5o+Kz9bVuCf2nP/1p//79v/vd7/T3D3/4w7Fjx44DFU7bavQfAKAYiMwAcGM60mTfvn3vvvuuSk6Vn1Eh2ppasYQ+ceKEdmkffvhh9P6ANoFEDQCKhsgMADc4K6S1O1ARGpWjraa1Smh1/Z133vnDH/4QvSegrSBRA4CiITIDAESF9LvvvtvaVXSrlNB/+tOftDOjfkabRKIGAEVDZAYAGFXR2im06hndrVJC79+/n/O30VaRqAFA0RCZAQDOgQMHVJBGpWkrKH8Jffr06d/97ndR94E2h0QNAIqGyAwAcOx07ta7Rnf5S+hDhw6p6I+6D7Q5JGoAUDREZgCAb9++fSpLowK13MpfQu/atYtfQaMNI1EDgKIhMgMAfAcPHlRZGhWo5Vb+Evqdd97h/s9ow0jUAKBoiMwAAN+RI0dUlkYFarmVv4RmN4a2jREOAEVDZAYABLRriArUcqOEBkrDCAeAoiEyAwAClNBAUTDCAaBoiMwAgAAlNFAUjHAAKBoiMwAgQAkNFAUjHACKhsgMAAhQQgNFwQgHgKIhMgMAApTQQFEwwgGgaIjMAIAAJTRQFIxwACgaIjMAIEAJDRQFIxwAiobIDAAIUEIDRcEIB4CiaduR+ZNPPvnoo48OHToUPQYA5EAJ/d8mT5580003/c//+T+3bdsWTQKuIUpoUSb3ox/9SFti79699+/fH00FgOukzUTmeHRV/VxTU/MXf/EXP/jBD9avX2/Nrq/f/va36qHMnz8/mgQAxVN5JbQLr6p47T2UCyU0rq/WSNTee++9v/u7v7NN5rnnnoumFljLSug9e/bMmjWrb9++3/ve9/RaZYTdunWbOHHili1blCOqQVpapmenT5+e+JRPL9c81eaRRx45evRoNBXADaAskVnRTDHNQo3zV3/1V//8z/+8fPny+vr6qF1rikdXN0UKUrK2oIQ+cuSIXnXffff98Ic/tNf+4Ac/uOuuu37xi18cPHhQDTJ2K3V1dV26dNFTt99++759+6KpV3Ivv+WWWzZv3hxNBXBjo4T+b5TQuL5ao4RevHixbS/Sv3//jz76KHqiRMeOHVM5OnXq1Icfflj5RDS1FWTkOomUIT399NNWOcdpVtbbjLRs3bp1N998s984oDL7Jz/5iRqoin711VejqQBuDK1XQjv/+I//+N5770VNW01idH355ZdVcPbt2/d3v/udTclDUXHHjh0zZsy455578gTq/EoqodWN9evXq/P2kjjNTc0ydiv19fWqvfWUwrs1jlNOqMxQbYYMGWI1OQBQQv83SmhcX2UvoV1yYFQoqlyMniuRy//S6sxyych14vbu3ft//s//aXpz3/nhD3/44x//eMqUKT/96U+rq6uVErneZqRlH374ofJXPZW27e/bt+/2229Xg4zDFADaqvKW0ApNtbW1v/71r1999dWpU6f+zd/8zXeB6aabFMpa/BVnTiVF12xlnFUgfwmt+nnx4sV/9Vd/Ze2/973vDRgwQMFfuwDtCH7wgx9oYrMltLgvmn/yk59ontFUj3piDfJU9QBuEJTQ/40SGtdX2UvozZs333LLLRrVyh7++q//Wv9Mnz49MUVolsv/XFHaSvJnZgcPHrz33nvVUm699dYVK1YcO3Yseq7J9u3ba2pqrLfZadnTTz9tzyqXiiZ59Fo7izstwQLQhpW3hA5C6Pvvv/+///f/1vRrcJJL/ujarDLOKpC/hP71r39t9bNW3bhx4/bu3Rs90aS+vv6FF16wH3hn99b93Okf//EfP/zww2jqZe61JIcAfJTQ/40SGtdX2Uvo5557TkNaxbNSDTvQ2uLjqGn5X9nlz8xeeuklq2x79Ojx9ttvR1NTZKdlSrPsXO4xY8YcPnw4mtpENbP9WPpqjuEDqFytWkLLrFmzvotNN9309NNPR5NaR/7o2qwyziqQs4RWrTtgwABr+cwzzxw5ciR6Ikl2bxXzFfn1rIJ8/Jpq7sfS991337X5yTqAitBGSmg/5tpXj3//93+vhz/4wQ+mTp368ccfR+0uO3jw4IwZMywsqs0TTzzxwQcfpJXQmuGiRYtUeyhfF/2jhy6Sujw+2C+++eabdgDwnnvu4cczyKO8JbSGvZ3krL/63w60aqymHeg4duzY2rVr//Vf/9XOf7OT4mpra7U5aKPQlIAN+LR0JzFf1CI2bdo0ceLEv/3bv7VXaTvVluhvIDkzs48++qh///5qpqTntddei6amy07L3Nz+7u/+LvhFojvNO/EABYA2r7VLaAWl72LT5azGhVw9VGWofEYxWTHT/VY5Oydx9u7dq9zG4rmynZkzZyrPiUfXtMznk08+2bJly9ixY+0aXbYgdWbPnj32RgJBxN6+fbtea0vXX/2vKdFzl2mPsHLlSvvRjfY4Q4cO1Q4iZwn98ssvW7M8KVazuxU3t/i3GO4078RzlADcsNpaCa2dxP3332//O/fee68fYd95553/9b/+V/TcZXfeeeeQIUP0T7Aj2blzp/um06dwfODAATXQnBXBNUWp/KpVq+xV2u1NmDBBE1VFq5a2iUC28pbQ7ipZdiFujUM7l/vhhx+OX1NaqZU7KdqnrayMJfSCBQuscWDw4MGuOs1ZQrvjxvYFQTQ1XbNpmTuXu7a2NprUxK3G1j5ABKCYWruEnjdvXlPsuWnWrFl66JfQv/jFL1Re6n+XmTSbk5i1a9fG4/a//Mu/2Gv96JpYQquHP/nJT2zRPi1FHbA3EnDzVGGsSjt+ice/+qu/euWVV2z+otzJ0iSf2kycONH+zyih3XFjCSJ2omZ3K+5c7mCHUn/5eiLxb1cB3ODaWgn9wx/+8NZbb/3lL3/5/vvvL1682HYh2g24I2+u4hXFSr1QYVE7MLez8XckH330kR3H08Tly5crsCr4/tu//ZvtV372s5/ZDyPdAWd3tcb//M//tJ/ouDZAs8pYQrvTj91NODQy7UuieCqgp1z9rAzDNp8tW7b8/Oc/12g/cuSI6tt33333H/7hH9Rg6NChSqG0IWjr0FJKKqHVplu3bpr/7t271UAb2sCBA+3l7gv+nCW0q8ZzVrbNltCJXzG41agqOn6CH4AbQauW0C7NUF6hMKUproRWrnJ704UMxTKTnDnJf/3Xf7nfVz/44IOKXXV1dQqV7spbfnSNl9CK+VOmTLGWSqi0I9DLZdGiRY8//vjvf/977RG0F9C+QA20X9DeQXPTRLsahWpa648WrX2N9i9vvPGG9ee2226zY9Hq57//+79/t4CmRWjOavnrX//a/3Ygo4TWsmyGOSvbZncrivmK/GqgvYB/2EPv2k5XjP/GB8ANrq2V0NoNKPWPpnqh3DVWLW1TFC79E5/0Kttp+TsSO4FHex2VxDZF3BHmXr16aUelKQq+Tz75pKZozpq/C9b/+I//GFzfAshQxhLaXUTavwmH/TRaghPS3I8RRo4cmXZENy3/K6mEVjriv1bcBc9c4dpsrmPcrwcz0ixfsyW03rjlpn//93+/a9cum+hO8NZTaWsGQNvWSiW0com3337bwo4FGQUcTXcl9F/+5V8qjCv9sNJUcuYkLtQrTrrXymuvvWbn1PjRNV5Cu2MAd955p0plmxhIC9Qqbu2XLw888ICfYrkjDXZWlPqp3uphjx49/BpYeyt3kCMjtitE24/1sncTTp7ditLFpsVG5wIYd4J3nmPdAG4oba2EDk5SVWi2k3Nsp/XJ5fu7Bl80ivsO0u1IXMx1OzxHkV3TVXW8/vrrNsV96au94IsvvqintKPK8xNNwCljCe2+KvKzEFev+pdFcWfE+SlUXDz/MyWV0HHxZm67y86NLO2TjDTL12wJLVaW2xdhNsWdLu4nVQBuKOUtoRPddtttLvy6EjoolV1sjAdVPydxzfxvA437otCPrvES2n7VotDnfpsWlxaoFWnVDdE/0aQm7u3fe++9f/jDH6yZHsZDqytlM2K1W0XZuwknz27FleXue2e3c4yvSQBoayV0dh7vwqjK3Q9jVwYKdiTutRn8nYQd8Za//Mu/1FOq1Y9kXiISCJSrhHbfB3Xp0qWuri6a6qUR7uxuCbYRmxiX1iznphdNbUpK3njjjeeee27ChAnaDO1iM34z10m9XDOxV8VZyig5i9u0fvrcVwzu5lWWSvqrC8CNplVL6O9973sKhv4Ja64+DE5+SZuDT4HONbNiNXpxk8ToGmQ+OSNwWjMXmdNYqLdmypfccQgnT6x27zFncZvnTWm/+cgjj6iNWxXuGIym+8dmAEBurBI6eBg1uizYkbjdWAYt114r7vtdufXWW93FM4GcylVCux1/BjubTt59992qqipN8TeouLRtJ+empykqSl955ZW/+Zu/sfbmL//yL5VF6R/XTH/1v6Zk5DrijlTkvNFInrTs4OWfi9/edOsvdxa3fzI8gBtNeUvo6upqha9fN6mrq4v/wtblHpMmTbLv8kzOnMQ1i4f0xOgaZD7uZ8ZBqA+kBWqbWwabbbBQX55Y7dKtm/PdazDnbiU4e8vO4tYUd14SADg3Vgntwq4yY/vRkS+I6Xv37rXf6gQnh6dRH9y1OoQLiaFU5Sqh7fdy2dzxDXf2WvblUoJNKZqavum5zce1d7+v69u37/Lly3fv3q3FxWebM9dxV3m5Jd9F7/OkZWK/IbS0zF1gLPslANq28pbQQQiNS6uBc+YkGSE9MboGmU92muSkBWq7unj8t3IB+9WMIm38Mo15YrWSK7vQo0yYMKHZM/5y7lbcL7Tvu+++gwcP2slc9o1q1AIALruxSug//OEPduXh4ARXcRE2viPJcz9Y7dvsEhr33HPPT3/6U/0T/IoJaFZZEjU3klVb/uIXv7BjHU5tba1d8tTlLu5Yq1IHuxRNorT8z216ypyiSU1c/enaP/7443r4N3/zN/7bjFfarv/ZuU59ff0DDzygZpJxFTQnZwntzuV++umnLclLPE4C4MZRkBI6Z07iDiPHm7nLTPrRNSihVXXbD4Czf8CSFqjd+UHBRSsD7pYK8WYK0fZUdqx238nq72uvvZZ9xCLnbsWdy/13f/d32mXYNxHudz0A4LuxSmhNcVeqnDJliv/NpbtSpduRuK85/+Iv/uKFF17IiKEKu3ZFbiubd+7c2aNHDz3U3i7jS1wgUJZEzRWBaacfuwRFw9tGdU1NjU1RlZt2UrTblP71X//Vn636bOdm+6NdW5Zdt0/cpmeJWlBC2xUE/GY5cx3ZsmWLHYiWgQMH2r1SfJqit2azzVlCu6X37dv3n/7pn/RPzhPFAbRVZYnM8WwkTVoJnTMncXVg0Ez/uPtI+dE1KKFl2bJlFpYzvp10obJXr157vR9yu/OD7rzzzt27d0dTY9x+Kmjmrswq2bFaexl35y2lXnprQaDWQ719+6Y4/25Fewp77w888ID+yXmiOIAbkHYNUYFabgUtoZVV33bbbZqi4Pjggw9u2rRJEf/pp5/+67/+a7sMmL8jeeedd2xnoMbaJ9nND0VBWbF70aJF1kxLt29D7YQi7aieffZZPRSF9bT9HBAoS6Jmx07F/do54FIcd36aMhjlMfYq1aIqazXF3RfaXuUOVmuoP//885rJwoULtU1p+l133WWvHTNmjDYobSbaspR5WCLiNj27NJfYzUKVdWnrUEUdNMuf62jL+tWvfmWbnmg+ekcKC9o29Vf/a4qbrQsRkyZNio7Ie/zz9NxXDCb7WAqANq8gJbTkzEncEdrvfe97TzzxhMK1IrPaK8mxPCe7hD548KCdr2ctf/nLX77//vuaid0X2jrvDlarJ1q0Pfvhhx+6Iwry93//9wrRCvValubw8ssvqy615fqnEfXt2/fVV1/dtWuXGugldjBDskto+eCDD9wdsOQHP/iBuq3OiP6xa1Uq8qul261o7f3Hf/xHFPcve+ONN9yJ8e5AvclzEiKAG9MNV0KLIqZLux3F3IkTJ+off0ciq1atchcNDtiy3Cnc/gv37Nlzxx132ET/PtVAhqtP1Fyhm3EOnnKX++67T22U+rirpGjo2ldLAbeVqV792c9+Fk1t4rap+Aalhyqwg03PJX+OOqC6umUnchv1as2aNbfeemvT/BK4a9K6EJHI0izj8ldRh5UaRk8AuCEVp4SWZnMSUWB84YUXFGCjJ5ro4axZs6zm9KNrvISW3bt3209+An7nX3rpJX8Rbp6qwO+///5o6pX85fpf3Tqaon2H/d9sCS0ff/zxhAkTgnfqaLpd8dvtVhL5b0qrzp1CJe5cLQAI3IgltALixo0bhw4d+r3vfU8R9vbbb//Vr3515MiRxB2JqEh+4okn/vZv/7ZpCd990zlkyJBly5ZpP+F/4RpcP8ztXUaNGpW9vwTM1Sdq69ats6/wsy8i7a439oh3rw61V9ZlB2/11A9/+MOxY8f624KG8cyZM60M1lYwbdo0u1aNhv369esHDhxoG5QSLz3ct29ffNPbvn27HqrAVrPq6mrV3vFm+qv/NcVPtrLpJbW1tXrLLrNU5/VQE92i85fQ7isGyb7EGoAbQaFKaMnISaIWx48fO3Zs5cqVCrMKtorMis9r165Vg3h0Tct8FAmXL1+ueK6X21L+9V//9f/9v//n8hxlTdqV/MM//IOeVVRXtPz9739vT9nS//mf/9m+XVUf1Gzq1KlahJ8m2RuxuK2grXr1o48+Skvn0miG2rNo5lqE7bzUYb1BTdF0W5zbrSQKPhG3G9VfOw8cAOIqr4QG2ipGOAAUDZEZABCghAaKghEOAEVDZAYABCihgaJghANA0RCZAQABSmigKBjhAFA0RGYAQIASGigKRjgAFA2RGQAQoIQGioIRDgBFQ2QGAAQooYGiYIQDQNEQmQEAAUpooCgY4QBQNERmAECAEhooCkY4ABQNkRkAEKCEBoqCEQ4ARUNkBgAEKKGBomCEA0DREJkBAAFKaKAoGOEAUDREZgBAgBIaKApGOAAUDZEZABCghAaKghEOAEVDZAYABCihgaJghANA0RCZAQABSmigKBjhAFA0RGYAQIASGigKRjgAFA2RGQAQoIQGioIRDgBFQ2QGAAQqrIQGAAAAAOA6igrUcit/Cf3RRx9F/wFtESMcAIqGyAwACLTeroESGigNIxwAiobIDAAIUEIDRcEIB4CiITIDAAKU0EBRMMIBoGiIzACAACU0UBSMcAAoGiIzACBACQ0UBSMcAIqGyAwACFBCA0XBCAeAoiEyAwAClNBAUTDCAaBoiMwAgAAlNFAUjHAAKBoiMwAgQAkNFAUjHACKhsgMAAhQQgNFwQgHgKIhMgMAApTQQFEwwgGgaIjMAIAAJTRQFIxwACgaIjMAIEAJDRQFIxwAiobIDAAIUEIDRcEIB4CiITIDAAKU0EBRMMIBoGiIzACAACU0UBSMcAAoGiIzACBACQ0UBSMcAIqGyAwACFBCA0XBCAeAoiEyAwAClNBAUTDCAaBoiMwAgEClltCffvppTU1Np06dbrrppi5dusyZM+f06dPRc0BlaqWtcffu3cOGDfv444+jx1c6cuTIpEmTOnbsqE2pb9++q1atunDhQvSc5+jRo26L09+ZM2c2NDREz12psbFx165d999/v81Tf0eNGqUNNnq6ycWLF994441Bgwa1a9euffv2w4cPr6ur+/bbb6Onm3z99dcPPvig5hD37rvvRo1iNJP6+vqnnnqqe/fuaqn5V1dXB28qY85OxiIA3FBaIzIrCj3//PMKqtHjK+nZ2tpaBWTFIoXQBx54IC2AG0VUtX/44Yf1wmiSx6K3MiXNTfF29OjR7733XhBvTc7dgZP9LgKa1YYNGyzsi/556623tL+Inr7smWee+S4Ex7zyyitRCwAogIosoZWgd+vWTSG4V69ed9xxh+0YBg4ceOLECWsAVKKyb43nzp2bO3eucqZbb701MQPbunWrsiVtSqozVfRahTxu3Di9MGrRZNu2bXoq2OJ69uwZn6cyKqVTaqmF9unTR41lwIABfku1efrppzUHzVPPqpka6yVKAf2sTs1U6PrzcRQBokYxX3755Z133uleZTPXsiZOnOje1Pnz51Vj26wCeoPqid6aUklrDOAGV97IrCinCKaoqLikcjGa6vnqq6/Gjh2rZxVpXVBSoFa4jlpcScFq5MiRaq+AGS+hN27caIG9e/fubm4yf/58Fd5RoyY5dwem2XcR0EwUhNU4CPuzZ88OuqG5abrta3xr1qyJWgBAAVReCd3Q0DB48GAF+s2bN1vCfeHChRkzZig0T506NYjFQAUp49Z46tSppUuXVlVVabuQxBJaiZdqRX9TOnv27EMPPaT28+bNc9XswYMHuzV5//33bWJjY+PKlSv1wiBj09Y3a9YsvXzy5Mlpx6hlxYoVypC0IC3Opuzfv1/z79y58969e22KnD59+u6771Y9rKo4mpSD3vivfvWrM2fORI///Ofjx48PHDhQvVq9enU0KZ2yNPVt8eLF7u0DuMGVKzIrQu7bt2/06NEKMt/F5aTi89KlS6oq9ZSyGjsCrFikEK14q7JT0cyaieJwfX39448/bt8SSmIJrUUMHz5cLV1Ms3irGe7cudOmSM7dgeR5FwH3pqZPn+4K8s8//3zEiBEdOnTYtm2bTZFvvvlm0qRJad/5AkBxVF4JrTxYgTjIcU+ePHnXXXcRdlHRyrU12vFbbSadOnX65S9/OWrUqMRN49VXX1WbOXPm+JvS4cOHlV31799ftage6ik1UKoUHAFQFlVTU6PsZ8eOHdGkP//53XffVQaWdtTCaLaDBw8OckF55ZVX1BnN03XGjiePGTMmY245bdq0SW9BmZnys2hSkrS+AbiRlSsyK0IqysnIkSMt4sWLT4vAauB/D6gS1I4T+CczK6QrsGvigAEDamtr9X9iCb1+/fp4CLU8SvOMHufbHZg87yJg8xkyZIg/Hzlw4IC6PWHCBHe6uO28+vXrl/ElLAAUQYWV0BZeFYsVkaOpl82dO1ehXLuB6DFQacpYQk+ZMmXp0qVKwmyTSSyhlfdok/GPAIiSLVWtrr0dCr799tuDHzPLrl27VEK7JEw5kDKhxAX5lH6pmg0SNTl69GiPHj38XE0plBKpxKSwVJZrNjurxK/nANzgyhWZt2/fPnbs2P379zc2NlohGi8+rSiNnzJj8XbcuHHnz5+3KQcPHtTc3n777YsXL+YMcc7evXtvueUWf255dgcmz7sIrF27Vs0WLlwYPb7Mjjl37dr10KFDNsWWWOrJRwBw7VVYCW159ogRI9wpoI5Cf55QDhRWa2yNGSW0EhptMkpuosdNgprZDgUnJjS2MbqkzXI4le6XLl2yBonsq66NGzdGjy+L52o2w2YPHedh+eL06dMzamMOQQNI1BqRObH4tJJSwcr/SYuxrxTTakuLlvlLaCvI/XCdZ3cQl7OEtu8F/EPoju0RNB97aHscLZQLxAIouAoroS3uJ6bCeraqqir/LgQommtcQn/wwQedO3cONplt27ZpE5s2bZqlVpbQJKZQhw4d6tq1q0vp7DhD9mkgliBqO42/U23R2q79XMqSwqv/Usx+oa03FRxgCdgh6PjhcQA3uNaIzInFp5WsiacxJx4QdkotoS3c+YeF8+wO4koqoeNHoSU4Qd32OCRyAIqvNXYNplVK6Ix4bbsQ7WO0p4kmARXlGpfQyopmz57drl07bVBnzpxpbGx87733evbs2a1bt4MHD1obK3rVJn7c2JIwV0K7gwla0AMPPNCx6bYovXv3XrBggdskMzoj6oZe4gpd+75MU0ynTp0mTJiwZ8+e/CWuiuc//OEPkydPvvnmm+OXn/Wph2m/GAdwg7tmJbQVkC6o+ix4Jn7/KJb/5Kw8Fe1HjhypglllczQp3+4gLmcJbcE8+IG32Lk/moMroe3kpu8ifhPtR+69996tW7eqP9YAAAqiwkpoO9K1bNmyaJInY98DVIRrXEKLqsoXX3zRkhXTt2/f+vr66OkmdiBCiZR/RW5V1Jqn2tsWZ8eQNeWFF15Q0mO3LenXr58V0kOGDLEbzmUcY5HgZD9lXXYvE3GzUoYXvwlKwEKBGpv77rtv79692YX3jh07sg+2ALhhXbMS2grItCMB9iWjXhg99uQvoe2sHM1HgTQId3l2B4GcJbTthtTSvyK39gKTJ09uWs5/h30tbujQoVHcv+MOu7GW+HclBIAiqLASOkiyfZY3B5eOBCrINS6hlTAtXbq0ffv29k2/0qDq6mrVqIMHD1YmFzVqamZHJ7Tp2X1K9VcPp06d6n6bZ0vRRBWiS5YscZdXVZJkNzi126LYRmovsQY+27rTTgVXN6xu11KybxCqCKAc1DKw7t27a57Kw/xeBZRHqnjWbBNzUwA3uGtWQmdXwmqsMLV9+/bosSdnCa1n7Z788Yo05+4gkLOEFvWwZ8+eaqxF9Gmif26//Xb7/U5iUieNjY07d+5UJFeb4N5aAHB9VVgJrRxakdS/E4Njv8xsdhcCFNa1LKGVi9TW1ipDUonrjglr4vvvv9+tW7eBAwfacWOjPKaurm706NFKevQSpVZvvvmmXqVi2LY4W4q2zfi92e12Jiq2P/vss7Nnz44YMcK//qrPfhSXXcdu3rxZVfqoUaPyH5HQcu1Yx6xZs4K+GeuhMkW+fQMQd81K6E8//VRVZeKRgPPnz48bNy7xy1DJU0KrElaUUwCvqakJmpW0O/DlL6Hlyy+/nD9/vmaol3Tq1GnatGlaln1zmh327d5XthOJJgHA9VZhJXRGvLZdSFmu3wtcF9eyhFYuooxE2Uz8/nD2I+clS5ZEj1Oot1VVVXZtP7GDCfFLdlkH7Cd8aZ0x2q5VHu/atSt6nMROBe/Ro0fGgZG4xN/+OZbDzZ07N3oMAJ7WiMyJyUzGeToWPNNCX3YJrfisxamBbNq0SQ+jJy5r8e6gpBI6znYcaT/wduySHM3uHQDgWmqNXYNplRI6Yz+h3J08GBWtNbbGtKp1+/bt7dq1S9yUbCvzbxmayE4JcTdBCe5N4lOCpWXZ+Yf6P7HZuabrzTZbG6e9nWbZLVviZ4nbDEnOAKS5ZiV0RnxraLqpVdrdnjJSI5WpKoM7duw4fPjwY8eORVOv1OLdwVWW0HZeUp5bWKXtOADgeqmwEtqOQSXeYkcpsvYBRFhUrmtZQlvqk3jdGnWjqrn7w124cGHChAn+UQurqOM/abPa2J28bVcEjN/dxM5gzF6ofPHFF9XV1Uol3dmGOVkJHdz1VCxBzJPDAbgxXbMSWuy7SIXT6PFldnP7mpqa+DFkySihtSDVz6qBM3780uLdQdq7yMmu49jsrQRtL9bswWoAuJZaLyK1SgmtOKtoq5C9evXqaGoTuzUCv2ZERWuNrdGSj3gJbSlXfLrYic1puZqx3yTPmDHDXdPVTgWM37bEFuR+vZz2w2M7XTDYruOUWbZr167U32tknMhtJX32mwVwI2uNyJxWfFpVOWHCBP/yh5b5aLqejSZdKa2EVtRV7O3Tp8/x48ejSUlavDu4mhJafRs7dmziQgN79+5V9OaLTgCFUmEltP4ePHhQKbi4Ey+1p1Eqr8R6xYoVNgWoRNeyhNZW89hjjyn7GT58+JEjR2xiY2PjunXrOnXq1LFjx507d9rEQ4cOvfbaay6fc22Ca8wowVq8eLFm6N+25PPPPx8xYoS2TXdQxe4+qmZPP/20y/b2799vdbV/bPmll15SH7Q4e6h/NBO9Eb9v6tXPfvaz2267bd++fTYleJWoVn/iiScsCwwuJ6bOTJkyRU/Fj04DgLmWJbSi4vjx4xUzlyxZYvFKoXXz5s2Ke5oeVMhOWgmtnlddvmJFNClJ/t1BIO1dbNiwQS98+eWX3XKXLl3q3x9LoX7cuHF6m7W1tX7fFIoV512g1lN2d0O1zL4RAwBcY5VXQiuk2g97FFJ79eql2KpIrSCedrldoFJcyxJalMSovtW24zalLl266KE2Lm1iLq2x5EwT+/Xr5zY3/XPw4EFr4Khynjhxop5VGzWw25Zo5vPnz/e3Tbdca6ZFq41K6AMHDkQtmigtUxu7jZZY3/QSJWeub8rJ9EJNf/bZZ22KvcrmLNYHTXn44YfPnj1rbRz7Ycgtt9yyd+/eaBIAXOlaltCi0KrYpWct+tmd+TIuiy1pJbQtxcXDOFeX5twdBBLfhQpyxVvrszvbyCKz3ovmbDFfgl2D2EFv12F774rhqsBJ8AAUSuWV0KJovmfPHneLnUGDBr311lv+cSegEl3jElqU66giHTJkiNWZyplqamqCC3ppDi+++GLv3r3VQJtbdXV1bW2tO84c0AxXrVrVt29fNVbudf/992tTjadfevmCBQus+lW2NHPmTP/4s9m3b9+YMWP0rNqIOqB8K7hQrfr2yCOP+Eeh1XmV0+qAumoz10zq6uoS44Ma9+jRI/HaCgBgrnEJLYqHiooW/RQnFS3TQq7JLqEz+FevyLM7CKS9i5UrV37/+99/2TsKrRCt3YF2Cmqv9/Xoo48eOHAgvms4duyYnrLqXfL0AQCui4osoYE2iREOAEVDZAYABCihgaJghANA0RCZAQABSmigKBjhAFA0RGYAQIASGigKRjgAFA2RGQAQoIQGioIRDgBFQ2QGAAQooYGiYIQDQNEQmQEAAUpooCgY4QBQNERmAECAEhooCkY4ABQNkRkAEKCEBoqCEQ4ARUNkBgAEKKGBomCEA0DREJkBAAFKaKAoGOEAUDREZgBAgBIaKApGOAAUDZEZABCghAaKghEOAEVDZAYABCihgaJghANA0RCZAQABSmigKBjhAFA0RGYAQIASGigKRjgAFA2RGQAQoIQGioIRDgBFQ2QGAAQooYGiYIQDQNEQmQEAgQoroQEAAAAAuI6iArXcOAoNlIYRDgBFQ2QGAAQooYGiYIQDQNEQmQEAAUpooCgY4QBQNERmAECAEhooCkY4ABQNkRkAEKCEBoqCEQ4ARUNkBgAEKKGBomCEA0DREJkBAAFKaKAoGOEAUDREZgBAgBIaKApGOAAUDZEZABCghAaKghEOAEVDZAYABCihgaJghANA0RCZAQABSmigKBjhAFA0RGYAQIASGigKRjgAFA2RGQAQoIQGioIRDgBFQ2QGAAQooYGiYIQDQNEQmQEAAUpooCgY4QBQNERmAECAEhooCkY4ABQNkRkAEKCEBoqCEQ4ARUNkBgAEKKGBomCEA0DREJkBAAFKaKAoGOEAUDREZgBAgBIaKApGOAAUDZEZABCo+BL62LFjw4cPf/fdd6PHQMUqy9b4yiuv3JTpmWeeiZr++c9ffvnl/Pnze/furent2rUbNGjQG2+8cfHixejpyy5cuLBhw4YhQ4a0b99eLbt166ZXnT59Onq6aT533nln0+yT3XrrrR9//HHU+kqnTp0aPHiw2qjn0aQUOXsr586dW7Bggfqplp06dZo5c2ZDQ0P0HACUoox5Us7QdPTo0ZqaGjXIbqbIvGrVqr59+6pZx44dJ02adOTIkei5y77++uvVq1cPHTpUDWxujz76aLyZAumWLVtGjRplC1Xj+++/f8+ePd9++23UIkVjY2NdXZ0au/mr559++mn0dIrdu3cPGzYsbacAAMVXwSW0dh61tbUW7imh0QaUZWtcs2bNHUn69eunFEeVpxpYy7179/bs2VObT5cuXdSgT58+ViFPnTpVeZ61kT/+8Y/jx4+3pEozUUvb6PTPwYMHrY3K4DFjxny3mJju3burscpvtbHGAaV3aiDZJXTO3sqJEycGDhxoLR988EEruZWzHjhwIGoBALmVK0/KGZq2bdumGKtY3atXL8U6NVYzRb+g4FTcGzdunJ5SY1Ww1dXVeomi9NatW6MWTexLVQubbm56iZYStWiiJMqmWzOL24qxK1asyKiilYb927/9m5arlorJbv633nqr6uqo0ZXU7blz56p9xveqAFB8FVlCKwSvW7dOexdFakMJjTag9bZGOXLkiJKwkSNHnjlzxqYotVLGs3PnzsbGRpty/PhxZXh+mS3KcvTC5cuXf/311zZFadOMGTO03T322GP63yYmUu41b948zXDjxo3RpCudPHnyrrvusq04u4TO2Vv1R73S3NRD65vaq/NqllHGA0CaskTmnKHp4MGDKqrl/ffft9pVzVauXKnaWFW3C8IWWjW3hx566OzZszZl8+bNaqZw7R9kVuz1w6Zb6ODBg/14uHv3brV0J/W4uaknhw8ftolxX375pUr35557zu1WMuKtHi5durSqquq7cJ95ahIAFF9FltDPPPOM4m/79u3nzp3705/+VP9TQqMNaL2tUfnQnDlzlNb4pezbb7994sSJ6MFlO3bs6NChw7hx486fP29TlI0pA7P/HSVDysC6du166NChaFIS5V7KwPy63adeLV68uHPnznYsJbuEztlb9Ue9CrJDJawTJkzQ29++fXs0CQDyKUtkzhOaXKD2vxYUVbY1NTWKdYp4NkUz6d+/f1Df2ssVS1999dVoUpJz586NGjVKc9u1a1c0KcmlS5emTZumua1duzaaFKNubNq0ScuNHjdJjLcq/h988EHNrVOnTr/85S/VAUpoABWtIkvo2bNnaz9x8uRJ/W/lNCU02oDW2xqzS1nfp59+evvttys58/O8OGVXU6ZMyS5KE+t234EDB5RFzZs3b/ny5c2W0InivbXTEadPnx5kdcuWLWvZIgDc4MoSmfOEptOnT999992KafHfEqvcVdE7Y8YMe6jiU8FzzJgxwc9Ytm3bprn5F7xIlDNxUq9aFjYXLlyoF/qVvEpo7TKWLl2qfZCV05TQACpaRZbQPkpotBmttDU2W8r6jh492qNHjxEjRtjJgWm++eabSZMm3XLLLXv37o0mxWTX7fZDPlW/n3/+eYsTtXhv1R/1Sn1TD22KmTt3rhaRZw0AgK8skTlPaLLrMor+sWcdi3XuXG779lD1tn9ZR1m7dq3mpgo2epzEvgCtqqpq9n1ZJRz8ajqP7HhLCQ2gDaCEBoqilbZGK2WDEwjT2KnRSrCUZkWTkmhWmmHi0RJjdbu2zdWrV0eTPHq2trb25ptvtvMVW1xCx3tr5ygGyZn94rpfv36fffZZNAkA8ilLZM4TmqyEToyrdh64q67tLGtFP7++tdK0c+fOH3zwQTQpyYEDB7RHcNV4Grv4mbpnZ/zlZydyZ3zBSgkNoA2ghAaKopW2xiVLluQsUC9evDh16tR27dpt2rQpmpRi48aNaqYcLq3SVkaovDAt/bJTuN3VyFpWQqf1VtGgY8eOqvAPHjyoWl09GTdunJqtWLEiagEAuZUrMjcbmuzsHk2JH7+1Oxf4B6jtwmM9e/Z87733Ghsbz5w5o3RIr509e3ZaWD59+vS6detuu+22O7z7KcSpxFVlPmDAAEXptAtrZ1DlrDJ+1KhRwUnmDiU0gDaAEhooitbYGu1wcZ4DsHZkWBnY+PHjs49O2EEMyUjCLOFT9R499tjBDf+ysS0oobN7u2PHDnfdV7n55pvXrl2rl0RPA0BuZYzMzYYm1a4dOnRQdPWvyK2KWgWn2gfneNfX19tNoZ0XX3zRXVXbsQBrunTpsmjRosTiVnlU1KjpFoYzZsz44osvoudys/Cul2dkZZTQANoASmigKFpja9y0aZPqzJqamuwCUlmXyl21HDJkSPzC175du3YpvYvfVtSXeMqi0YJmzZqlBMu/eWmpJXR2b9VD1ed6trq6WvHh3nvv1eLU4Q0bNlBFAyhVuSJzntCk4DZ79my1UUi0mznrrx5OnTq1X79+fgl99OjRwYMHq1nv3r2ffPLJcePGaVbt27dfunRpUEWvWbNG8xHNQUvUS4YPHx7/AlTds2aiWamZFrd9+/b8YVNd6t+/v/qQfTdpSmgAbQAlNFAUZd8a7TdpHbxboST66quvlH5pO9Jf/R9NjVFapuRM6ZGyQCVb0dQk9hNlLdrO03aUVNmhY1XRfpJXUgmd3Vt3hNwdw5GGhoaxY8cGdTsA5FGWyJw/NDU2NtbV1Y0ePVrB1urtN998Uy1V0LofMLuDvevWrVN7e+G5c+emT5+ulyjMplWwCrx2TFs9UZeiqTGa586dO1VL5wybWtyGDRtUeEuzX1ZSQgNoAyihgaIo+9aoBEVpSvyqrT4t1PIkZV3BsQvf2bNnn3jiCW1rkydPziizRclTTU2NWsbvJqpUTAtS6RucRpi/hM7urV1iR7OKX8PMrqmW8fM8AEh09ZH56kOT+lBVVeXuiWVXuJgzZ05QrOb85U6zF7Mwzf6q2Vy4cGH+/Pma4fDhw48dOxZNTUcJDaANKHvS7lBCA6Up+9ZopencuXOjxzF1dXXKY1SU7t69O5qUpKGhYcSIEc2W2eaLL76orq7u0aPH0aNHo0lNLG1Sf7Jpi45eENNsb5U+9u/fPzEzs6V37dr10KFD0SQAyOHqI/PVhyYVvQqP9r3k+fPn7UycxMxHIVTVbMYd+yV+R/1EZ8+eVeTP7puqa7us4/PPP6/3Ek3NRAkNoA2ghAaKorxbo6UpHTp0SDvp2i7oOnDgwOwfP2s+48ePz3k6n2hjVDoVv/2p0r6nnnpKBXBcly5dtBXbD//mz58fveBKeXprt4RJvN+p8rwxY8aQtAEo1dVH5qsMTfaTHAXAw4cP66HFdsXM+AUpvv322+nTpzebFKXdVjpgJXT8+1Dn0qVL9svtjFPH4yihAbQB5U3afZTQQGnKuzUq6VHqU11dnXhVVTuxsHPnzmm37nTsgmSLFy/OmSHNnTtXm2TOHzabZk/kztlbl1nGZ6VcTRlb2toAgDRXH5mvMjRt3ry5Q4cOM2bMsPOuFYrtxzJuimM3mm62Oi3XidwffPCBGkydOrXZs5N8lNAA2gBKaKAoyrs12ol/8aPBpqGhoV+/fmPGjMn+kZsd00g8eJLIjlpkHPpOFC+hz5w5c9999w0aNMh+WZezt7JmzRqlhkrO9PbdVXbq6+vt0rXz5s3Lf6gEAKQskTlnaDp06NBrr73mLsSoluvWrevUqVNwAs7OnTs7Nlm+fLlrrDhpJ3i7W+5rbosWLVI4tQaiGb799tvqhrjLiZ06dUod8H8+rc58+OGHd9xxh4K5Cvho6p//bNcMe/nll623y5Yt0+Iy7s6QiBIaQBtACQ0URXm3RjsavHDhwujxlezQhzIwlaZNJ1OH7IRqy3WU+fXq1St64koqa/1f09mh79tvv/3TTz+NJuUQL6F37NjRvn17TVy1apUe5uytXLx40S5so9fameHquT2cOnVqsxU4AATKEplzhqYg1qleVQP9E9yDShXs6tWr1UzPqo0a9OnTx2LmiBEjVEtbM5ubH8DtVzN6yZYtW9z3iXaeuaZ3797dmukfPdQMa2trXcGvsvzhhx/WdNXzFvYtAXOvCgwdOrS+vt5e66OEBtAGUEIDRVHGrfGbb76ZNGmSNo2NGzdGk65kqZUapNGWpWbu/MM0SrzcfUpl165dHTp0UA539uzZaFIO8RJaKeCwYcPcUeicvTXKCw8cOPDoo49a9qks8/7776+rq3OJIADkV67InCc0KeS++OKLvXv3VgOVvtXV1Spi0777O3r0aE1NjVXFKneHDBmyYcMGd1Ba9L92AaNGjbIlaoZ9+/ZVJe8HbVEH1I0JEybYrERVseYc/wn0ypUrv//97798+Si0JWBp0opkSmgAbUDFl9BAm8EIB4CiITIDAAKU0EBRMMIBoGiIzACAACU0UBSMcAAoGiIzACBACQ0UBSMcAIqGyAwACFBCA0XBCAeAoiEyAwAClNBAUTDCAaBoiMwAgAAlNFAUjHAAKBoiMwAgQAkNFAUjHACKhsgMAAhQQgNFwQgHgKIhMgMAApTQQFEwwgGgaIjMAIAAJTRQFIxwACgaIjMAIEAJDRQFIxwAiobIDAAIUEIDRcEIB4CiITIDAAKU0EBRMMIBoGiIzACAACU0UBSMcAAoGiIzACBACQ0UBSMcAIqGyAwACFBCA0XBCAeAoiEyAwAClNBAUTDCAaBoiMwAgECFldAAAAAAAFxHUYFabhyFBkrDCAeAoiEyAwAClNBAUTDCAaBoiMwAgAAlNFAUjHAAKBoiMwAgQAkNFAUjHACKhsgMAAhQQgNFwQgHgKIhMgMAApTQQFEwwgGgaIjMAIAAJTRQFIxwACgaIjMAIEAJDRQFIxwAiobIDAAIUEIDRcEIB4CiITIDAAKU0EBRMMIBoGiIzACAACU0UBSMcAAoGiIzACBACQ0UBSMcAIqGyAwACFBCA0XBCAeAoiEyAwAClNBAUTDCAaBoiMwAgAAlNFAUjHAAKBoiMwAgQAkNFAUjHACKhsgMAAhQQgNFwQgHgKIhMgMAApTQQFEwwgGgaIjMAIAAJTRQFIxwACgaIjMAIEAJDRQFIxwAiobIDAAIVGQJ/eWXX86fP79379433XRTu3btBg0a9MYbb1y8eNGeBSpUK22N33777Zw5c7SxPPjgg19//XU0tckzzzyj6XGvvPJK1CJGc3j++edramqix5dpKfX19U899VT37t01B22Y1dXVq1atunDhQtQiiTbb2trahx9+OOhYopZt+IcPH+7WrZte8u6770aTACC31ojMaYHUHD16VE916tRJgUt/Z86c2dDQED3nsZBo8a1jx46TJk06cuRI9JxHwXnPnj2jR49u3769Rc633nqrsbExerqJAumWLVtGjRplC9Xc7r//fr1Kr41apPjss8/0Rvr27as564WKzwsWLDh37lz09JU+/vhjdVIzt5ZLly7NE/kBoIAqr4Teu3dvz549FX+7dOlyxx139OnTR3sFPZw6dWpa1AYqQittja6GTCyhlff06tVLm5JvzZo1UQuPcqldu3YNGDBAs9ILo6mXKZm78847tTFqk9Qc3IY5ceLEtA1T2d7IkSMTOxbXsg1ffbavD4QSGkALlDcyZwdS2bZtm+pYF5kV8dRS0U/1Z9SiiR5aSOzevbua2XeXeqFeHrVoosXV1tZqbgqYQ4YMueeee6yCnTVrlv/9o8KjvVyzcnPTS1asWJFRRStuK3q7rvbr189mrgWdOHEiatREM1m/fr2edfsIq9XHjRtH5gagElVeCf3KK68o+O7cudN9h3r8+PGBAwcqiCfm/UClaI2t8dKlSzNmzFCmIkGl+s0330yaNOnWW28NMrM4ZVr79u0bPXq0tjKbVTzzO3Xq1K9+9aszZ85Ejy9vmGq8evXqaFITbbn19fWPP/641cCSp4Ru2Yavt6Y3aEuhhAbQAuWKzHkC6cGDB7s1ef/99612VcRbuXKlik8/TjY0NAwePFgT161bZyFRjRXiFO7uuuuukydPWjNRzFQzzXD//v02JTFy7t69e+PGja6o1tw2b95sLzx8+LBNjFN/FJk/++yz6PGf/3z27NmHHnpIb23OnDl+7e3el+uGa7l48WK/JQBUhMorod9+++3g203ZsWNHhw4dxo0bd/78+WgSUGlaY2vcu3dv586df/zjH1dVVQWVqv7XlH79+iWeIuizAxQycuRIJUz6J/HgSdymTZuUqKlQV7keTfLK2gEDBtTW1ur/PCV0CzZ8pYNTp07t06fPPffco8VRQgNogXJF5mYDqSpJVZ7xrwUVympqahTrFPFsyurVq/XyefPm+cWn/l++fLmm+99a2leowfeYeVKmS5cuTZs2Ta9du3ZtNCmfDz74QDudu++++/Tp0zbFvS9V6TbF2L6gurr6iy++iCYBQIWovBI60aeffnr77bf379//1KlT0SSg0pR9azx37tzYsWOHDBmyffv2eKWqZ8eMGXPnnXd++eWX0aQUernms3///sbGRssCc5bQliEFyz148KDmppJYeWFig/yyN3w7iqJkVL1VnymhAbRAuSJzs4FUNacqT8U0RbZo0mW7du1S0at6WP/bCUS33HLL3r177Vnn6NGjPXr0cLWxfU9aVVUVvIWGhoZ+/fo1G/ytztff6HE+9qMef+aqkFUnDx48OAjU9kZUWmvNRJMAoEK0kRLadhsjRow4e/ZsNAmoNOXdGr9t+gmcakhVkomVqiU6/rGCPEoqoZXhKc+bPn26f6jEd5UldMaGf+LEiYEDByphPXfuHCU0gBZrjTwpMZDGi0/HYp2FStE/ipyKn9HTl1kR7uZw6dKlKVOmqPZWBW4NTM6UaeHChepk8OPqZtk3m2PGjHE/crb6Xz1Rf2yKs2zZshZU6QBw3bWREtrOSkoM0EClKO/WeODAgW7duj322GMXLlzIKKFLLV/zl9AXL16cNWuWNsyMDOwqS+i0Dd8W3bFjx507d+ohJTSAFrvGJXTiUehDhw517drVamMroROPQp86dap///5+dW2/ppkxY4YfJO3w8pIlS6LHSexbyOCX1c2yr261RL8qXrt2rRanajl67NHeIecOBQAKpS2U0PaLR4Vs7SqiSUAFKuPWaKdw9+zZ0+5xklip2oEIpS9GBee99967detWd72uRHlKaG2Sf/jDHyZPnnzzzTfPnz9fD6MnYq6mhM7Y8Ddv3qzS2v1QkBIaQItdsxLandgc/GZY7MfP7vDy3Llz9TB+IS77VtEvoRVax48f3759+5deekn/K2yuW7euU6dOgwcPTrsKhpqpsh0wYIDmU1dXF01tjnYcqvxnz56tZQU3Ssg4IdzWQ8aZSgBQTBVfQruvPLWTaEEWDhRHubZGJUmzZs3SRuGuSZNYqdbX1w8dOvSOy+wWI5JxGyrJKKHtEIrNRO677769e/dmJ0YtLqEzNnw7/D5kyBD3uztKaAAtds1KaFHtqhpYEcy/IrcqasVJtXcltEXOjldekXvXrl2K5Gqmp1wJLYqQTzzxhKY7I0aMsPn4rEtGc54xY0aeq3xp5grg0ctuumnQoEFbtmwJvoe1gj/xdKQW7wIA4Pqq7BJapcKSJUuURsdvQghUnHJtjVu3blUC5N/2M0+aoqRn586dloEFF3r1ZZTQKlnHjBnTVI//901KtYVeuHAhahHTsvwpY8NX8T9u3DgloCqko0mU0ACuwrUsoRXcZs+ereCmZ+0e+Pqrh1OnTvUvAKb4vGLFCrsvoN3M2ULuQw899KMf/cgvoRVaa2pqNAc1U2x88skne/furZb6/6uvvrI2xipwY9+oanHbt29P2xeY8+fPP/XUU/aqXr16aUHq1cyZM/1fWWdEYNsFZF8bHAAKqIJLaEV/hd3EPQFQicqyNdox2IEDB/q1Zf5KVS9XS+Vq/q0+fRkldEBzmDx5shr7xXygBSV0xoavpdjh99raWj/to4QG0GLXsoSWxsbGurq60aNHqxZVNKuurn7zzTcbGhpU0PqhUiFO4XrSpEkdO3bUrFQYK+798Y9/VBtXaVtI1LPTp0935xZp/uvWrdOrFELTTjhy36iq2datW6OpOZw5c+a5555Tt/2Z22XJXn31VXvoU4muxnl2KABQKJVaQut/C+7aZ6Rl50Blufqt0S4AExyDlfyVqv0Yr0PsCq5O/hJalE6NHDmyc+fOH3zwQTTpSqWW0BkbvhJKO7U7XrFTQgNosdbIk0oKpKI+VFVVNfubYbtblbsatt2iOX43Kc3EbtScfQWZvXv36uWjRo1Kq7QTKfwGV6lo9rfQc+fOjR4DQIVojV2DacUSuq6uTmm3Mundu3fbFKANuPqt0TKVbO4ARZrsgrPUzC/j+IOUVEJnb/h6U3pr373DTIlpHACkKUIJvXHjRrVfu3Zt9DiF3UfQVaQKvGlLsQ7YjabTnD17dsSIEV27dj106FA0KR/rrZt5xpu1m1o1+74AoGgqr4Q+ePBg/DxVoA24+q1xzZo1qjDj7CdqHTt2tAMUwREJn0pZFbRVVVVpnWlZCZ2WIeUvoZvd8P1fYgfsd33du3fX/+4SawCQx3UvoS9cuDBhwgQFwMOHD0eTktix5Q4dOuzYscOm2Jeqiceu89xNykroHj16HD16NJqUj5XQrpJPuw213bZauwDtCKJJAFAhKqyEVsCdNm1a586d47dDBCpd622N+StVO3Pv7rvvPn36dDTpSiVlfuU6kfsqN3z1Vn1Wz6PHAJDbdS+h7S59wb2d4+xKFn441VLatWsXv7ez5qO5qQPZZ+WU60Ru+wrAr+3N4cOHu3XrpqcyLjkJAMVUYSV08DsfoC25xiX02rVrN27c6H42/O3le6Io9ck4VJuW+b300ks7d+7072Vy6tQpu5NKTU1N8ONkJ62EVu193333DRo06NixY3p4lRs+JTSAFruWJfShQ4dee+01V1Lapb86deoUnICj6Lpo0SIXDxW9FX579uwZXAhDzYYMGaIFTZ482d0FWjN/+eWX27dvr/ZHjhyxZvPmzfMvIakZfvjhh9odqO5VAR9N/fOfN2zYoM7o5XZYO9iJiCK5ZqWdyNixY/1wrffbsWPH/v37uwPaZ8+efeihhzSRyAygElVYCW0Jt52P+t0JmjHz58+PWgOV5hqX0HaOn/Ih23bsnijKq5YuXZpW8Upa5mdlqptbnz597IYrDz/8cHDyni+thN6xY4e9fNWqVXp4lRs+JTSAFruWJXQQ6+xHKPrn4MGDUYsmdukHBUlFWj3bpUsXNdML6+rqohaX6YVqoGddY5un39hdSMJ+7SJud1BbW+u+GFXtrXiu6arnVXVriu1EXG/1V/9riur248eP26uM9imK0iqtrRvWUg81//hJ5gBQfBVZQitAp4nvkIBKcY1L6GPHjj366KOWe4n+qampafY3b2mZn1747LPP9u3bV1mRGihLGzNmjFI0/7h0XFoJ3dDQMGzYMHcU+io3fEpoAC12LUtoRcIXX3zRbt2sWFpdXa0iM372jSrS1atX61mLt2qvAjXtOpF6uWaS0VhRWrF6woQJbnegEjpxd7By5crvf//7L18+Cq2ZLFq0aMCAAfaNp6rioUOHbtiwIfHEbC3lrbfeUlRXN9R+9OjRe/bsoX4GUKEqrISO/gPaIkY4ABQNkRkAEKCEBoqCEQ4ARUNkBgAEKKGBomCEA0DREJkBAAFKaKAoGOEAUDREZgBAgBIaKApGOAAUDZEZABCghAaKghEOAEVDZAYABCihgaJghANA0RCZAQABSmigKBjhAFA0RGYAQIASGigKRjgAFA2RGQAQoIQGioIRDgBFQ2QGAAQooYGiYIQDQNEQmQEAAUpooCgY4QBQNERmAECAEhooCkY4ABQNkRkAEKCEBoqCEQ4ARUNkBgAEKKGBomCEA0DREJkBAAFKaKAoGOEAUDREZgBAgBIaKApGOAAUDZEZABCghAaKghEOAEVDZAYABCqshAYAAAAA4DqKCtRy4yg0UBpGOAAUDZEZABCghAaKghEOAEVDZAYABCihgaJghANA0RCZAQABSmigKBjhAFA0RGYAQIASGigKRjgAFA2RGQAQoIQGioIRDgBFQ2QGAAQooYGiYIQDQNEQmQEAAUpooCgY4QBQNERmAECAEhooCkY4ABQNkRkAEKCEBoqCEQ4ARUNkBgAEKKGBomCEA0DREJkBAAFKaKAoGOEAUDREZgBAgBIaKApGOAAUDZEZABCghAaKghEOAEVDZAYABCihgaJghANA0RCZAQABSmigKBjhAFA0RGYAQIASGigKRjgAFA2RGQAQoIQGioIRDgBFQ2QGAAQooYGiYIQDQNEQmQEAAUpooCgY4QBQNERmAECg8kroixcvbtmyZdSoUZ06dbrppps6dux4//3379mz59tvv7VmQIUq49Z49OjRmpqaLl26aBtp37796NGj33vvvcRt5NNPP1VL25rUfs6cOadPn46eu+zChQsbNmwYMmSIZqVm3bp1mz9/fryZ2HJtbvo7c+bMhoaG6DnPl19+qTloPrYJT5o06ciRI9Fzua1evVovv/POOzW3aFKSw4cP24LefffdaBIA5NZKeVJGaDp37tyCBQvs2YxAmmH37t3Dhg37+OOPo8ceC7+9e/fWzNu1azdo0KA33nhDmVX0NAAgh8orobWzsZ3KHU26d++uh8rsV6xYQRWNilaurXHjxo1WxGrr0DbSq1cv5UmitCnIk3bt2qUsTU+pjVpayT1w4MATJ05ELf785z/+8Y/jx4/XdNW6/fr1UzObuf45ePBg1KjJtm3b9FQwt549ewZpnB5qouuebcJ6oV4etcjh1KlTgwcP1guzS2jFhDlz5qiZUEIDaIHWyJMyQpPCr4KwpiuEPvjgg1brKlAfOHAgapFJ5ffcuXOVFN16663xEnrv3r0WfjVzhd8+ffrYF6NTp07VC6NGAIDmVF4JvXv3blUIrhLQfmjz5s1K7rWDOXz4sE0EKlG5tsZnnnlm+PDh9fX17kul/fv3awPRZrJz506bIg0NDapCNVFbkLW8cOHCjBkzLJ1ym5hVvMuXL//6669timv22GOP6X+bqHJai5D333/f5tbY2Lhy5UrNX1mge61b6Lp169RAU9RYGaSyvbvuuuvkyZPWrFmvvPKKOiDZJbQ6rzlbS0poAC3QGnlSWmhSRFVc1UTFWIuuipMKv+3atRsyZMipU6esWSI9u3Tp0qqqKpttYgmtyKnKWTsCC79y/PhxVeya/5o1a2wKAKBZlVdCx126dGnatGnaYaxduzaaBFSgcm2N69evjx9PsNOelZZFjy9PWbx4sau0RUWsSlk/9zpy5IhfeBs7CNy1a9dDhw7poeYwZ86ceBKmOrympqZDhw47duywKbbQefPm+QvV/8oRNV3PRpMyKefr06fPvffe26tXr4wSWkufOnWqWt5zzz2aOSU0gBYoe56UEZoUURVXFV39alm19IQJExRgt2/fHk2K+frrrx988EHNrVOnTr/85S9HjRqVWEK//fbb/klGRvFZUXrcuHHnz5+PJgEAMrWFElrskJT+Ro+BCtR6W6Ps3bv3lltucUmS5Vvdks7dmDt3rramV199NXqc5NKlS1OmTHEp3enTp+++++7bb7/9008/tQbOrl27lJxZ6f7NN99MmjRJ3VBn7Fnn6NGjPXr0yJPDWVnes2dPFfaqnzNKaDs/RVX9M888QwkNoGXKHpkzQpP+15Tp06f7XzLKsmXLspMchXTF5KVLl545c8bCe2IJnUhxW9G7f//+2Ue5AQBOGymhFy5cqL1LSb+lBIqmVUtoK2WVY6n61UMrWUeMGHH27Flr4Gg70tak3C56nCQohlXEplWztiA7lzsjsbMiPKMedrZu3arsc/ny5V988UXaQsV+Tzh27Nhz585RQgNosfJG5uzQZN91KroqxkaTmtg3mxs3boweZyq1hM7YHQAAErWFEtp2SCX9kBIooFYtoe0M6oULF9pDq6jjxzpE3aiqqrKiN5oUYydyu8POVkInHoW28xKt0LXELvEotGbYv3//ZnM+29jtN4G2UJtz9PRlFy9enDVrliptOwWdEhpAi5UxMjcbmlRXx8/Btt/X9OvX77PPPosmZSq1hLYTud0XrACAZlV2Ca39xLZt2wYMGKBdRV1dXTQVqEyttzWeOXNm5MiRnTt3/uCDD2yKnS6YeKhZWZc2qDFjxmRcoHXjxo3t2rWbNm2apVx2UFpT4gdJrHR3ha4dSwl+gC2Ww2XnfHYKt8s+M0rozZs3a27uF9eU0ABarIyROU9o0kNFucGDBx88eFDNVDaPGzdO0XXFihVRi+aUVELbD7M1/02bNkWTAADNqcgS2rJ/oz3NjBkzvvjiC3sKqFyttDXacQ9tLLNnz3YHGdauXaspy5Yts4e+jNLUHDhwwC6+7d/Uatu2bUoNNdG/IrcqaqVxWpCbm9Xn2mz9K3Lv2rXrjjvuULOMnE/Namtrlee57DOtn9Y9/+q1lNAAWqxckTl/aNqxY4e7sLbcfPPNitgW9/LIX0K7uDp+/Hi9KpoKAGhORZbQlnAbu0Wt0ujt27fn38EABdQaW6OyoqefflrbyMSJE/2jyhlX4LPSNO3SMtr6lAXGb+OsQl0lulIxzdbuOKq/ejh16tR+/fq5Qlcb6YoVK+xOpJqJmtl9oR966KEf/ehHGTmfZZ/jxo1z7yKxhNazaqOW/j1UKaEBtFhZInP+0KQY27NnTwXP6upqNbj33ns7duyoaLlhw4acSU7OElpBe8mSJVqQqvr4ZboBABkqsoT2NTY27ty5U4m49jFbt26NpgIVqOxb49GjRwcPHqwMqaamJjjCsHHjRqVu/j2uHPv1sjKw4CXKt5YuXarqV+mdkrxoqkcbY11d3ejRo9XG8r8333yzoaFBVa4/N2WBSiInTZqkbVZ96N27d21t7R//+Ee1Cephx34CHWSf8RLajrdr0Zqhn2tSQgNosauPzPlDk31XKO50HlEUHTt2bP4kJ08J/dVXX6mk19L1V/9HUwEA+VR8CW327t3buXPnUaNGZfx6Eyi4Mm6Nyr2UlimFkk2bNvlJm9GzSp6UwEWPPcq69KrgkrBnz5594okn9JLJkyeXlG/pTVVVVSVet8ynHLFfv36JP8C2ozfx9DEooTV/OyNRqaoSVmtjKKEBtNhVRub8oenSpUvTpk3TlPgd8g8fPqy6OmeS02wJrXdkBx7UsaBLAIA8ypi0B65pCa38fsSIEV27dj106FA0Cag05doalbEpA1N6NHz48GPHjkVTr2R1cvxQs9hNrebOnRs9bqpvtX21LN+yw91r166NHqewW7n4C3Ws2s+m9/Lee++pnI4ep+Pu8QBKcpWR2b7siwJQOoWmjBsTWFWcM8nJLqHr6ur0lEro3bt3R5MAACVqUyV0jx49jh49Gk0CKk25tkbVnCp3x3k/G46z+zAn3oZq4cKF7dq1cwdGlI2NHz8+fhA4jwsXLkyYMKFbt26HDx+OJiVRzT9nzpwOHTrs2LEjmuTxr33g69OnT/sm+mfo0KFKB8eMGRM9dyW7YkL37t31/5o1a6L5AkAOVxmZVRjnDE1WbFdVVcWXqGCumaRVxYGMEvrgwYMKyAMHDuTHzwBwNdpICc2J3GgDyrI1ahPQhqCq8vjx49GkJFa1KnsLzhhUtje4ibuW2KZNm1RRx29DlYfdwWXGjBnZtxs9cOCAsr3EQ+IZghO5M3AiN4AWa708KQhNVvpqSvxkGTtvqLq6Os/9R9JKaDtRXMlS/M78AICSVFgJrbR+3rx5n332WTSpqRL48MMP77jjDmXqytejqUAFKsvWqJnk+e2x2OEIcdcGu3DhgspdFczuBqSaiWaVeFQkcOjQoddee01zsIeNjY3r1q3r1KlTcLhDm/CiRYvcV12a/86dO3v27Klu+JcKO3PmzH333Tdo0KC0E9GFEhrANdB6eVI8NK1Zs0YRWNXvxo0b7bZ/Ul9fP3jwYLV0t/RTDdylS5eamhoXcn1pJXTGJScAACVpvV1Dq5TQljRrR2InPondEad9+/a1tbVufwNUorJsjcrGtEXY/aISuTOZlYrZT6aVsfXq1UtP2VmF/jVvLBVzDeKUjdnxajtIorkpRdN0m5X+8e8dLbYJ29nXelZZoJrphXV1dVGLJjt27FAbPbVq1apoUgwlNIBr4FqW0Iq98+fPV8jVdLs7oGKvPZw6daorfZ999llN6datm6prm+JLK6GDKB2nRUdNAQCZKqyEtrvmTJgwwTJvUQldU1PDT6DRBpSxhM7gnyKoKnrPnj3uNlSDBg166623/K+i3ImFaVwFq5Yvvvhi7969NVGzqq6urq2tjR/rUIKoul3PWlKo9kra4jVwQ0PDsGHDOAoN4Lq7liW0KCwfOHDg0UcftS8iVfHef//9ynz8yKyX/PCHPyz1KLSV0JpnGvUnagoAyFRhJXT0H9AWMcIBoGiIzACAACU0UBSMcAAoGiIzACBACQ0UBSMcAIqGyAwACFBCA0XBCAeAoiEyAwAClNBAUTDCAaBoiMwAgAAlNFAUjHAAKBoiMwAgQAkNFAUjHACKhsgMAAhQQgNFwQgHgKIhMgMAApTQQFEwwgGgaIjMAIAAJTRQFIxwACgaIjMAIEAJDRQFIxwAiobIDAAIUEIDRcEIB4CiITIDAAKU0EBRMMIBoGiIzACAACU0UBSMcAAoGiIzACBACQ0UBSMcAIqGyAwACFBCA0XBCAeAoiEyAwAClNBAUTDCAaBoiMwAgAAlNFAUjHAAKBoiMwAgUGElNAAAAAAA11FUoJYbR6GB0jDCAaBoiMwAgAAlNFAUjHAAKBoiMwAgQAkNFAUjHACKhsgMAAhQQgNFwQgHgKIhMgMAApTQQFEwwgGgaIjMAIAAJTRQFIxwACgaIjMAIEAJDRQFIxwAiobIDAAIUEIDRcEIB4CiITIDAAKU0EBRMMIBoGiIzACAACU0UBSMcAAoGiIzACBACQ0UBSMcAIqGyAwACFBCA0XBCAeAoiEyAwAClNBAUTDCAaBoiMwAgAAlNFAUjHAAKBoiMwAgQAkNFAUjHACKhsgMAAhQQgNFwQgHgKIhMgMAApTQQFEwwgGgaIjMAIAAJTRQFIxwACgaIjMAIEAJDRQFIxwAiobIDAAIUEIDRcEIB4CiITIDAAJtoYRevXr1TTfddOedd3755ZfRJKACtdLWuHv37mHDhn388cfR48suXry4ZcuWUaNGderUSVtQx44d77///j179nz77bdRiyRff/31888/X1NTEz32XLhwYcOGDUOGDGnfvr1m2K1bt/nz558+fTp62qNFv/HGG4MGDWrXrp0aDx8+vK6uLr7co0ePakFdunTR3NRs9OjR7733Xnb3jL3Q3pf+zpw5s6GhIXouxalTpwYPHqz2r7zySjQJAFonMmcE0nfffVeBKO7BBx/Uq6JGTRRyV61a1bdvXz2rAD5p0qQjR45Ez6VQ/JwzZ07i3J555pmm5YTiIbEFATaQ0Q0lctpx9O7dW89qB6HdhHYW2mVETwNAMVR8Ce0SX0poVLqyb43nzp2bO3euis9bb701XkJboqYE6I4m3bt310M1XrFiRWKZqom7du0aMGCAminZiqZe9sc//nH8+PF6Splcv379NENLsPTPwYMHo0ZNlDA9/fTTbtF9+vTRQpUq1dbW+svduHGjzUEdU7NevXqpjSi7yk6ntm3bpheqpV6iF1oF3rNnz/ga8Nk3cUIJDcBX3sicHUjFIrMCl8KX76mnnjp//nzUqCm8jxs3Ti0V7u6///7q6moFPYXfrVu3Ri2SHD58uFu3bnpVYgntwqZvzZo1UYsmLQuwgbRu7N27V7Nyb9/2Dno4depUvd+oEQAUQMWX0Mp3FV6FEhqVroxb46lTp5YuXVpVVWVbR2IJvXv3bpWprhxVYrd582ZlYMpslN/YRKM2+/btGz16tNImm2E889P8lfosX77c5UMXLlyYMWOGGj/22GP63yaKSnTN56GHHjp79qxN2b9/vxbauXNn5U82RbSI4cOH19fXu7ramqmHO3futClxKtfVRt5//317YWNj48qVK/WqeMronDx58q677rK3RgkNwFeuyJwnkMratWubDUQKbvPmzVMzF0hdAFccTjsWfenSJYvJEsTDb775ZtKkSYl7Cl/LAmwgoxt616qcFeE1W5ty/PjxgQMHao0FlTwAXF+VXUIrtvbp0+fee+/t1asXJTQqXbm2RmUkykuUnXTq1OmXv/zlqFGjmk2MjDKbadOm6YXK4aJJTdyJhSNHjrQvreKZn5K2eGVrJ4l07dr10KFD/hRtttp4bYqx2dbU1LiCef369fHDDnasWOlX9PhKeu2cOXPiyZYyV825Q4cOO3bsiCZ59KrFixergLdDOpTQAHzlisx5AqnYU9u2bYseJ1Eg7d+/v0pZ/+tOC4B67auvvhpNutLevXsV6H784x9XVVUFtavtNfr165dxSnbLAmxcRjfefvvtEydORA8u02w1c8Vn/yA8AFxfFVxCW9Tu2bOnEnfVz5TQqHRlLKGnTJmydOnSM2fOWGKUs4QWy96CMnL79u1jx47dv39/Y2OjZYGJmV+canL1RCmX5mBT9HI9VB7mSmVz9OjRHj16KClUahhNSqLc65ZbbknLpU6fPn333Xfffvvtn376aTTpsl27dikJS6y9Dxw4oPUzb9685cuXx987gBtcuSJzzkC6bNkyPaUG0eMkiueKWmPGjAm+Z1ThnTZbtdTShwwZom7otUHtqmc1t+w8qmUBNpDdjURanBba7N4BAK6lCi6ht27d2rFjR2W9X3zxBSU02oDW2BpLLaEXLlyoDCzjAEhJJbSdHKii152hPXfuXL1848aN9tCxBK7ZflqiprJcxXk0yaMIkBYKrESPp2targpyJWeff/554tcHAG5wrRGZMwKpJirKKdZFj5NYVamCNrheo50ErjAePb7s22+/ra2tVcq0efNmK7+DYGjBMz5DXwsCbKDZbiSymY8YMcL99gcArrtKLaFPnDgxcODAIUOGnDp1KiOsAxXkupfQtlndddddJ0+ejCbFlFRC22nb7qiFVdRVVVXxd6rUavr06Zpz9rEXO5E7niAaCwWJB0kOHTrUtWvXIEpYPnfzzTfbeYmU0ADirn0J3WzEth/dqNL2v+60aN+5c+cPPvggmnTZgQMHunXrZpelyCihswvaUgNsXLPdSGQncqd9cwoA10VFltB2CnfHy1cVsrDebOwGCu46ltBqplRswIABallXVxdNTVJSCb1x48Z27dop1bPUJ7szmqfmnHEA/MyZMyNHjkxMEI2V6Fpi/Ch34q3v7BRud7UzSmgAcdeyhLYgpqeMoll1dfWSJUvOxS4MYVf26tmz53vvvdfY2KjwqLmp/ezZs4NS086ddpcZS6xd7UhvtNSmGyvce++9W7dudZf1klIDbCBPN+KU702dOlUL3bRpUzQJAAqg8kpoO3CkeDpv3jz9rymU0Ggbrn0JbWmcUc40Y8aML774InouRf4S2g44iLuplf2ULu2KNdkVrBKpWbNmqUE8QfSpAu/QoYMW6l8wVgmf1oBe60cJO+TuX72WEhpA3LUsoc+fP//UU099dy+pJnavQVGkisfw+vp6uym08+KLLypURk83sciplMldAyyxdtWshg4dGi318i0JZeLEiX71nj/ABnJ2I+DyvfHjx2dX2gBwjVVeCW15+bhx41xYp4RG23DtS+hdu3ZFGdPlnEnb0fbt2y03SpSzhNactZ1qnv5R5exN1SrYxGvJ6l3YraSDfC5OiZpqbKVcamx3FtVfPZw6dapKd7doy+c6XnkPVUpoAHHXsoSO++yzzyZPnqzG9su1aGrTcePBgwdreu/evZ988kklRYq37du3X7p0qV9F21VjFO7cxDy1qwrjnTt3Kn5q/u5wheQMsHEt6IZaLlmyRDPXG49fphsArq8KK6HtwJFScxXS0VRKaLQV176E9rmcKSgsA81mfsp7lMMpk+vZs2dwRZyzZ8+OGDHCv8eVz+4UqvlHjy+zTFGJVE1NTUbO5+iN1NXVjR49Wn3Qq6qrq998882GhgaFCEvX3JENP58TSmgAcde3hBY7BVohy53MbLmQYvW6desU8Wyimk2fPl3NFN+s6LVDDmrpl6B5SmhjP3VRbawyPpqUI8BG7Twt6MZXX301rukug/qr/6OpAFAYlVRC7969W8E0nt9TQqNtuL4ltLE7do4aNSrtYG925qci+YknnlCDyZMnx/Oe7M5onsF1aJUFanFqL8odM46NN0vrtqqqSvmlZmLHQ/wzWQwlNIC4615Ci11qe+7cufZwyZIlehi/O6BdwdGK3sRDDpK/hLYfPwdhOZEfYKNJl7WgG5qbfZlbW1vrf8sJAMXRGrsGU/4SWsFU+4xsisg5SwWgaFpjayy1hM4+UCwZmV9DQ4Nem5336IV6uWYSPb5M1eyYMWN69Ohx9OhRm6JUbPXq1Zrb8OHDjx07ZhNbbOPGjVqu0lBbId8Fi0z5U1sAbVsRSmi//fnz5+0IbTyQitq0a7oVv30nmK3ZYw9pETvgAmz02FNqN+rq6rTDUgm9e/dumwIABVRJJbTyaUXVuD59+rRvon+GDh1aX18fvQCoKMUpof1SNpCW+WlB48ePj58kEki7band5tQ/IqEFJR4rboELFy5MmDChW7duhw8fDq7W4+vSpYv6Zj/wmz9/fvRiADe2IpTQVoguW7ZM/7vvAeP3L/jWuzvgmjVrLLIFevXqpRpb0bVfv35jxozxf18dsAUl3obQ5wfYaJKnpG7YZcaDU74BoIAqqYRO6ysncqNtKEIJ3eITuTdt2qR8aPHixfET+XzKsZQhDR48OMjb7J4o+msPtXT1oU+fPsePH7cpV2Pz5s0dOnSYMWNG9m1FOZEbQNx1L6Htfn7uhGrF2JqaGr08HtNOnjx51113ZQd8PaUG/veVaWx3cPfdd58+fTqalCRngA3Eu6GXT5s2TUvUcm0KABQWJTRQFNeyhFYFO2/ePP8iMUrLPvzwwzvuuEPJkFKiaGpMYuZnhz6aPVghSpJmz56tOTz99NMuc9q/f7/V1e5mV5pP2i/rfBcuXPjZz35222237du3z6YcOnTotddes/s8S2Nj47p16zp16pTnsAYlNIC41ojMaSW0ItiiRYtUM0ePm34gY1fkdnewl507d3Zssnz5cjdRLe0Eb79lXGIJvXbt2o0bN7of4CjwqlzX7qCddxsqyRlgN2zYoIkvv/xyRgCPd0P9tyPSV3/mEQC0ttbYNRhKaKA0rbE1ppXQttUo2erevXvTWXXRDUjbt29fW1vrLvEal5j52VKUbPXq1cvmFvBPF7SfTGsmyrH0lJ3OpxLav9iMLcUaJLKsrr6+Xi9Uy2effdZeaGmZnRyoZpqDntU/7t7UGSihAcRdyxLaIpj9ME2By36nppaqjf0LNKo0tUtF6CmLk66loqv7LjJRYglt0c+FXLc7CG6RlSfAqsB++OGHNV11dcZZ4vFuBDOP4/c1AIqDEhooimtZQtuNSSZMmGA/ABblTDU1NWk/gXYySmibT6Jg8zx37tyCBQus+lUSNnPmzCDns6VksEJXy33kkUf8o9Ca8uKLL/bu3VttVJlXV1fX1tbmPKZBCQ0g7lqW0BbB+vbtq/ClBqon77//fsXqxK81Fa4VtC2Gq9wdMmTIhg0bMo4/m8QS+tixY48++qjbHeifxN1BzgC7cuXK73//+y+XeBTaplgHEsVXFwBcL22hhAbaBkY4ABQNkRkAEKCEBoqCEQ4ARUNkBgAEKKGBomCEA0DREJkBAAFKaKAoGOEAUDREZgBAgBIaKApGOAAUDZEZABCghAaKghEOAEVDZAYABCihgaJghANA0RCZAQABSmigKBjhAFA0RGYAQIASGigKRjgAFA2RGQAQoIQGioIRDgBFQ2QGAAQooYGiYIQDQNEQmQEAAUpooCgY4QBQNERmAECAEhooCkY4ABQNkRkAEKCEBoqCEQ4ARUNkBgAEKKGBomCEA0DREJkBAAFKaKAoGOEAUDREZgBAgBIaKApGOAAUDZEZABCghAaKghEOAEVDZAYABCqshAYAAAAA4DqKCtRy4yg0UBpGOAAUDZEZABCghAaKghEOAEVDZAYABCihgaJghANA0RCZAQABSmigKBjhAFA0RGYAQIASGigKRjgAFA2RGQAQoIQGioIRDgBFQ2QGAAQooYGiYIQDQNEQmQEAAUpooCgY4QBQNERmAECAEhooCkY4ABQNkRkAEKCEBoqCEQ4ARUNkBgAEKKGBomCEA0DREJkBAAFKaKAoGOEAUDREZgBAgBIaKApGOAAUDZEZABCghAaKghEOAEVDZAYABCihgaJghANA0RCZAQABSmigKBjhAFA0RGYAQIASGigKRjgAFA2RGQAQoIQGioIRDgBFQ2QGAAQooYGiYIQDQNEQmQEAAUpooCgY4QBQNERmAECgIkvoZ5555qYkr7zyijUAKlG5tsavv/76wQcfjLaKK7377rvWRv9Ek1JoDpqPNZZz584tWLCgW7dueqpTp04zZ85saGiInvMcPXq0pqZGDTKaffbZZ88//3zfvn3btWunZr1799acNf/oaY/NrUuXLmrWvn370aNHv/fee99++230dIq0txa8I6O51dfXP/roo9ZnLWXAgAEHDhyIngZwwytvntTY2Lhr167777+/Y8eOijn6O2rUqE8//TR6Oubw4cMWeF30Nh9//PGtt976XWi70p133vnll19GjZooyu3Zs0fxU/FNUXfQoEFvvfWWuhE9fZmm1NXVWTPNRyF61apVFy5ciJ725NwdxKnPkyZNsjeuyL906dJ4TBatDbcfUfyfM2fO6dOno+cAoBgqtYTWbqBXr153XGnNmjXWAKhE5S2hlQb16dMn2jYuU+pmbfRPNCnGEpd58+a5YvXEiRMDBw60bEZzVuqj/5U/BaXmtm3b9Fq3bVrp27NnT6VNUYvLfXNt+vXrZ+nUkCFDtJSoUZONGzdaT7p3766Waq9Xyfz58y9evBg1SmIltJb+3ZvxPPXUU+fPn48aNdF8lMNZWuniif5RHhm1AHDDK2OepACo4lABx4/PAwYM8IOkT0FYBaQCmiSW0AqSNhNnzJgxp06diho1zaG2ttaWqDB7zz33WMidNWuWH0j1/+zZs9VMzyosu8g8ceLE4PvNnLuDgLqxfv16zdO9cQvv48aNC+avfZPm5mKy7Ue0xGAHAQDXV+WV0N98882kSZO050jb5QAVqlxb4+nTp+++++74sYg8lHspzVKKc/z4cZty4cKFxx57TEnMjBkz7IhEY2Pj8uXLleKopcvVDh48qLxH3n//fau91WzlypXKmfzDv/rnlVde+eyzz+yhnD179qGHHtL8lSm6ol2eeeaZ4cOH19fXu4n79+/X/DXDnTt32pREa9eu1dyaPSfFZZZaypEjR6KpAHClckVmlakqXBWdJk+enP+wrTvUHJTQKjU7dOigOBk9TqFoqZipyKn4aVMU21WRKvT5Rx1WrFihKWPHjnUdU2R+4okntFw/lubcHcS5HYTrhov8ixcvdkFeSx88eLA6vHnzZpuopWhZajZ16tTsL08B4FqqvBLajmL169cv5x4IqBTl2hpVOat+HjNmTOLZ0dlWr14d5DSHDh3q2rWr0ho/PVJaM2HCBKVN27dv10M1VgEc5GSijKempkZ53o4dO6JJST744IPOnTur7PfP1lu/fn28/9Y9ZVTR4yRK+NRm27Zt0eMUltJxcANAtnJFZtXAKg7jx13TKH6qbuzTp88999yjmBaU0Ha6zbJly6LHKaz+VOSMHjdRQFZYVk/sxBzFdkX4nj17Bl8mfv755/379/eDf57dQZzbQWzcuDGa1MS+IKiurv7iiy9sSnwHJCdPnrzrrrs4cAKgUCqvhNa+R7VBy46wAUVWrq2xoaGhX79+/rHfnCyR8g9BiyVq06dP93MaUeqm6XaAwo5733777fFf9Nmhkuyi12r+PBv13r17b7nlFpf5JbKOBelmwFI6dazZShvADa4skdnqzJLqwM2bN6vkXrNmjV3/JYhpil0uAqexQw5VVVXBW7B9hAu5FqWnTJly6dIla+DMnTvXr43z7A7iVCGrTg4Kb7GTCt38rbfdunU7fPiwNXDUDc3/1VdfjR4DwPVWeSW0ZdvBASugDSjX1mhf7Ss1UYISTcon8QiAVa3xuVlOY0cVMmrgo0eP9ujRI7ueV+Gt8jvPYfOMVM9Ruqk2ahk9TmIp3YgRI86ePRtNAoAkZYnMFpazY5fPfnI8duxYRcXEEtpOt1m7dm30OImWpSXG46GFZRcArTBOPCc8+F1Mnt1BXEbc9mvvoFc++76g2bPWAeCaqdQSugVH2ICCK28JXWq2YYeg40cAlMCNGjUqOHhiZ9b169fPftVsW2XiUWg78S+xujYq1+03ydmHU4wV+QsXLoweJ9Ebb/ZQj6V02cfGAUDKEpmtFs15HNV+Ne2u+5BRQgcT4zZt2qToqljnl6/22iVLlthDK6ETS1x1WE+5vUme3UGcvffEc8792tjCcvwQt+gjqKqqIvEDUByVV0Lb95SKuUb7mHvvvXfr1q3xOzQAlaVcW6MlItEW0nTTkQkTJuzZsyeel/gSMy2jBEsbmgrsgwcPaibKk8aNG6fGK1assAbufLz4UQgrehNLaG2zKrlnz57dvn37qVOnNnsI+syZMyNHjuzcufMHH3wQTYqxntgbF3WpurpamWIwc3doRR3Qou3asF26dMl/dxYAN4iyRGY7TqtYquLzgQceUETVw7Rb+m3evFkx3N0WIbGEthk6mtXzzz8fD1+qOcePH68Y+9JLL+l/Fefr1q1TxFM8d40trQp+wiN28rlm7kpoaXZ3EGcVe+KXpFa9W9ls//vLcux74ZZd4AMAWkPlldD19fVDhw5tunfDdyz3lfitF4DKUsYSOto8vLtGKcVRsZp2RVNLlTKq0x07dlRVVdm2JjfffLOqUL8m37Ztm3K+bldekVsVtfIetfdLaKVxD3q3rR40aNCWLVua/QrMDsuovd5FvMh3zp8//9RTT0Vv/o47unfvbksJ7q1lZw+++OKL6rDWj9aSGlswCVoCuMFdfWRWSFSVqGD4wgsvKOAo1CjguOAc3NLvwIEDikv+Ba4TS+j58+c3Bbnv2D3/1EZzjl/fQSHXrq3tjBgxwv9OUxHVrjrmX5FbCdVzzz1nsw3K2mZ3BwGr9uMdE6uN7fByxsFqO9Ep8atYALguKq+EDijz3rlzp3Yhirz+nWyBitNKW6OKTytllQyl3TvdromddpqcanIVlnp5dXW1cql7773XssANGza4LU5LsduKaku0ezLrrx5OnTpVmaKf+vhVrmV+7du3nzlzZsbPktWrp59+WnNuwTdln3322eTJk/XaeEpqJw26GeofPdT0xx577ELT/VoA4Oojs31vqFinmLNkyRIXXlSvqmpVzHHZi6LQuHHjVEL7t1lOLKEDZ86csYo3uLC2Fm13olbE1pyffPJJu5Oz/v/qq6+iRk0/vVaE1HS1VFi28l4vUVTXRL+EzrM7CGT030podUb7hYyD1VZC9+/fP7ggGQBcLxVfQhvtbBSFFfTTfooDFF/rbY1iZwaOGjUqXoIq75kzZ45yl+DGJ8YOiYg7vCyW+Slz2rp1q02RxsbGurq60aNHqyS2BOvNN99US6U+Gb9hc5mfsqjE8vjo0aODBw9WAyWCaTPJptmqt5rDpk2bbIqldCNHjtTSbYqxH4RnnysO4IZSrhJaMSd+c+PDhw8rulr2YufaKFLV1tb65WieElr0cgVJtXQ/crYZaor/XaEC9bp16xS9g5Cr/7Xcvn37qr2efeCBB1SK28nVrqzNvzvwLVy4UDNJ/B349u3b9X6tRN+4caOaJV6iwq6pkbEfAYBrrI2U0PYDSFUIuzIvwwsUWauW0HbfqR49eqgijSZdZpenTnzq0qVL06ZNU1oTr64t80usyX16U1VVVfZTt2hSjPI8ZZZ+iWv0EiVwtzbRUxlzaJadIjh37lx7aCdyJ54xaNlq4jmHAG5AVx+ZFbvsDJfEs6xVGSpIqjq1Cyuq6A3K7JwltNiFMNwVs+30osGxu0mpP3aj5iDkxlmotG63eHfQ7G+hLTLb/1ZOB+xgdfxK4ABwvbSRElry72OAYmrVEtoSNWUh8R/6aqtRLpWYnSjx6t+/f+KrbIZdu3Y9dOhQNCmJHVhQBRs9ThE//qAkT4lax44dhw8ffuzYsWhqSwXJmVXUiSmdZXvcgBSAKUtkdpcTix57FJcUgd94440777xTbbIlRi3H/2mxHgbX0/ZZSEw85OuoZp4yZYr7drXFu4Mg/PqsRLcdRNB5n2p4NXPfgQLAdddGSmgL31VVVa1ahACtqlVHrx1q7tevn7tajFGlauf+JVa59gu0xC3r3LlzY8aMSUynHLtKWbfYjbLirIT2MyRlXfFTDVvMCmN32Nnubqo3HhzZtoNFSme3b98eTQJwYytLZLYQFy+ALZCq+Ny1a5f+sYtEBDo1Xemwe/fu+j/tehZGYVPhy531Y3Ev8SQgK0oTy1rHji0rhtuPt1u8O7Arfsdv+GwlunuVnSqVeHPEhQsX6n0lfgEBANdF6yXt17SEVkLcuXNnBV+F4GgSUGlab2sUJXCJh5ota0lLfezLqcTMz44YqCxXcR5NirEfYCfeKMsXP5FbCdmoUaPiN1lpGbsblv9Dj7T5N3uDUwA3mrJEZoUUBZb49RcskGb/IkaFroJwswWkBVK1dN+HWkWtmKbIZlOMArJdgjvjmLbmVlNTo7DpTj5v8e7AvkvVrHbs2BFNahKU6KrzE6/KYZeoiJ+ODgDXUeWV0No3qBhwvxRSzFVafMcdd2g/kf3tLFBw5doaX3rppZ07d7rbROkfbTLKbzp27KjpNtGx47EZXz9ps9LGpZdrJm6e9fX1SmiU67gLyR46dOi1115zV5q1K9Z06tRp4MCB/v1agu1XlJZpJlrE2LFjXRKpVdHsL6hFi/vZz35222237du3z6aoG4sWLfKT1IaGBrsid3CdbftOQQt1h+XPnj1rt35ZvHhx9nIB3DjKEpkVUhRYFF4U1lyg+/zzz0eMGKFApHBkUxLFS2gVkwqb/jd9mqddl9G/9YD+setsKwa6QKcw+PLLL7dv396/drfCtfYOLu5pblqo5hb8MDvn7mDDhg0K/lqKm6E6rx1Q//793RU3FG8feughTfTf18GDB1VUi/u6U71Vta+FZtx3GgCuvcoroe3EJEXnpvObovu+amewdOlSP9ADFadcW6PlW3ZnKdE/tskk3nRENa2enTJlStqBYm1W8+fPVwbj5unuQTp16lSXC9pRCOVD/bx7LOsfpUTWwNj265rpr/7XFOV5/gFhJVWa6DbzOPu+TKmbki21fPbZZ+2F1g0FhD59+qiZ/up/NQju4CJ6X3YXLuuM64n/pgCgXJFZgWXixIkusll0UghSgM3OXuIltJ1TrdcqGmtWLnyplA2uCqkIrAZ6ykVFC86Kk3V1dVGjy5HZIrwLm/FgmGd3oKL34Ycf1pSBAwe6Yt690LphHdbD4Nrj+t8ugeHemvU2fok1ALi+Kq+EPnbs2KOPPmpVgeifmpqa+JWEgYpTrq1x3759Y8aMscxDevfurdzF3ZY5YBe5WbhwYfQ4idKaAwcOaLuzeSq/uf/++5V+uaMQ8vXXX7/44ot2x1FlP9XV1cqN4rWourFo0aIBAwZYiqZZDR06VLW9f3xYrITOYGcSaqGPPPKIfxTautG3b1/L6hK76mjiW2+9NWjQIEvsVMbrYWJLADesMuZJCnSrVq1yN45SdNqzZ0/8m81AvIRWPalS0wVSC1/xQGoUhxWNFZMtKibuESyzyojwTp7dwcqVK7///e/7R6EliLejR49OfO+aounu5ohqT1gGUECVV0IDbRUjHACKhsgMAAhQQgNFwQgHgKIhMgMAApTQQFEwwgGgaIjMAIAAJTRQFIxwACgaIjMAIEAJDRQFIxwAiobIDAAIUEIDRcEIB4CiITIDAAKU0EBRMMIBoGiIzACAACU0UBSMcAAoGiIzACBACQ0UBSMcAIqGyAwACFRSCf373/++sbExegC0OSRqAFA0RGYAgE8FqcrS6EG5lb+EPnLkyPnz56MHQJtDogYARUNkBgD4VJCqLI0elFv5S+iTJ09++eWX0QOgzSFRA4CiITIDAHwqSFWWRg/Krfwl9Ndff11fXx89ANocEjUAKBoiMwDAp4JUZWn0oNzKX0LLJ598curUqegB0LaQqAFA0RCZAQCOSlEVpNGDVtAqJfSFCxe0M+MX0WiTSNQAoGiIzAAAoyJUOwUVpNHjVtAqJbScPn360KFDVNFoe0jUAKBoiMwAAFH5qSJUpWj0uHW0Vgkt6rp2aZzRjTaGRA0AiobIDABQ4andQWvXz9KKJbRcuHDhk08+qa+v//LLL8+fP8/9otEGkKgBQNEQmQHgxqQCU2Wmik2VnCo8W/X8bad1S2jz9ddfnzx58siRI7///e+1kwMAAAAA4CqpwFSZqWKz9a6/HXctSmgAAAAAANoASmgAAAAAAHKhhAYAAAAAIBdKaAAAAAAAcqGEBgAAAAAgF0poAAAAAAByoYQGAAAAACAXSmgAAAAAAHKhhAYAAAAAIBdKaAAAAAAAcqGEBgAAAAAgF0poAAAAAAByoYQGAAAAACAXSmgAAAAAAHKhhAYAAAAAIBdKaAAAAAAAcqGEBgAAAAAgF0poAAAAAAByoYQGAAAAACAXSmgAAAAAAHKhhAYAAAAAIBdKaAAAAAAAcqGEBgAAAAAgF0poAAAAAAByoYQGAAAAACAXSmgAAAAAAHKhhAYAAAAAIBdKaAAAAAAAcqGEBgAAAAAgF0poAAAAAAByoYQGAAAAACAXSmgAAAAAAHKhhAYAAAAAIBdKaAAAAAAAcqGEBgAAAAAgF0poAAAAAAByoYQGAAAAACAXSmgAAAAAAHKhhAYAAAAAIBdKaAAAAAAAcqGEBgAAAAAgF0poAAAAAAByoYQGAAAAACAXSmgAAAAAAHKhhAYAAAAAIBdKaAAAAAAAcqGEBgAAAAAgF0poAAAAAAByoYQGAAAAACAXSmgAAAAAAHK5/iX0K6+8ctNNNz344INff/11NCndxYsXZ8+e3aFDh5UrV0aTCkA9V//1LvReoknN+fjjj2+99dY777zzyy+/jCZdK++++666el0WjQq1bdu2Tp06PfLII3k20uuuBdsjrgYrHHG2o8m5Z78Baf+rvbBWkVZUNKlFyjWfNsDSKtE/0aTC77z4+LK5nUsFrZ9z587NmzdPo07dHjhw4KlTp6InKsS33367a9euIUOGtGvy61//OnoCMeUvoS0cNOuZZ56x9iWV0C7cFGrH7DZySmi0SdpaNWaC1KSwWrA94mqwwkty8uTJ2traoUOHduzYUStN2rdv36dPnylTphw4cCBqlLln/PTTT2+//XY9u3r16mhSis8++6xfv355Wpad7WgKtaculHLVTtRgTmIJXfCdV4s/PtU5x44dW7BgwYABAxRANAdRSPmnf/onvWWFCGuWPf+FCxfqqcGDBzdb5i1ZsiRny/JyO5dKGd4nTpxQ2awOm4rLtDWutHtS5Ry9AXbrmSqshOYo9NVTJFJXK27DxnXEUWhkYIXndO7cublz57p8N85fgRl7xkuXLk2bNk3PTpgw4cKFC9HUJJs2bVIypHrbpdTXjO1ocu7Zb0Atrp0C5ZpPG5BYQrfJo9ANDQ2PP/64X+cE3Nyy5//BBx907txZGfWOHTuiSUkUuEaNGqWZqOSOJl0rbudSEcNb9ee8efPU22HDhn3++efR1Ipy5MiRnj17aki8+uqrjY2N0VSkaPUTuTXuNZ4yCraMROHa2LNnz1NPPaXKPHpcOreR588gKaGBVtKC7bEkKlrWr18/YsSI7du3R5NuDPX19c8+++yUKVOCWN3aKzzN1Yfua+nEiRNDhgzRWlLi++Mf/3jLli1ffPHFxYsXv/nmGyXECstPPvmk/9Vw9p7RauNu3bodPnw4mhTjKm391f/R1GvFdjTXcc9ecKXWTmmjvdT5tGGJJfTVuAahvgUfn96dihy9pH379lOnTlX1e+rUKVU72tAUZDZu3Dh+/HjX4ez5u9p4zpw5Kv+iqTFWaYv+iSZdK27nUhHD+/Tp03fffbd6q08hmlRp1q5dq/5rzJ89ezaahHSU0NF5Pu6oeAu4jZwSGrjuWrA9lqQFSU/bkBarW3uFp7n60H3NqEgeNmyYeqvcd+fOnRnZqpO9Z1T5XV1dnb3O7XxvVdqqt6NJ15DtaNL6j1LDSNpov2HDUVzZS+hrsG5LXcShQ4esfh48eHB9fX00NV2z87c4o2CikBJNirHzvVVsq+SOJl0rbudSEcPb1nZVVdVHH30UTao0Nh6mT5+eZycFSmhKaKBNacH2WJJmk5K2Ki1Wt/YKT3P1ofvauHTp0uzZs9XVbt26+b92zpa9Z1R+M2fOnIwGsnHjRjXITo5bj+1oMrp3gys1jKSN9hs2HMW1+RJam9L48ePVeODAgSdOnIimZmp2/ocPH1ZcateuXVqDs2fPjhgxQnO4xuHduJ1LRQxvW9tlHIHXnu13ir9XLQhKaEpooE1pwfZYkmaTkrYqLVa39gpPc/Wh+9qw0yCVpJZ0dl+ze8YdO3Z06NAhLV375ptvJk2apDlkn6LZemxHk9H/G1ypYSRttN+w4SiuzZfQ9vMNBZO9e/dGk5rT7PwvXLgwYcIENaipqUkMFLt27VKcyf7NSOtxO5eKGN62tss4Aq892+8Uf69aEMUqoRsaGmbOnGnXgtffRx999NixY1G7y2xHEuRq2vIPHDig9vba9u3bDxgwoLa2NuMHYC6yBILRf/Lkyfnz5/ft21eRS8926dJFPVQ/o6ebBBmkXq7cxa62qv4oMB09etRaOhbrE1eLItqqVauqq6ttib17916wYEH+82eaXRX+J6LZauYKjpqiDt9///379u2zZoGLFy/qhWPGjLHZqm/q4aJFi/z+u5/exWPxqVOnBg8erKfiSeTcuXM1XX+jx3/+s1aX5qBVbQvSytdHkCcPa2xs3L9/v967e606qZWZfcWdOOtA9+7dNRPR3J566qngejzBskSf1LPPPhv/rN1I0wq0D1fvSA+1JjWWvvrqK2um+U+dOtVWrz119cNMcq4Tv5MaFfo4NGc1tp9U2ZiJZ8NqqaHlxqoWoZ1xvBtnzpxRM3fhUM353nvv1UiIfy4Zg1Nv9siRI1G7TC1bUaJ19dZbbw0ZMsT6qbcTfArWvTgtrr6+vl+/floPahO1vsxKnfglnex3U3pKOUo0qYneptt+1W1tlXv27Ak2KNNsh8VfG5qJZjV69Ghrr3GYZ+twc4izN5uxCG0UL774YjBsHAv4NjLVXm9Eb0dvKno6hRurARe6swezOqmn1OF4rywsu/n4bMttWVi2EFfqaZAZ/TQuqC5ZsiSa5LGDS/HRFcg+BqWQPmXKFC3Cr8ODzVkDVcM1vm3axuL33/9cbIovrUSUnFuEPqMNGza4zUHttc7VMno6U8435X8oNnqtV/ob3/Qc26HYOLf+az+bvTackka7BYRBgwbpAxUN19WrV2vfbbPy5QkdafTe3fauh3kCrA0G9VO91VpVfFD3+vfv71/eOX800EfvJzn2YSlXTNx+4+PQsQHjro1vC3399dc17O1VccF8SlqNVzMMxH0pVtKlDfLMX4NEDbT/+uyzz6JJl2lV29kuWrQ6EE1Nkv2NnjuU7W4NoFWXJzNxg83vf8tieP4Py/+k1LE8Kah1Kc62ERO8ZcmTNMZ3YRmCRD17O/K5JQZsm40aNbeR2g0g1M/4YCs1C6oUBSqhtQYtXb7lllv012hKcOZbvIS2y3TrY9N0fahdu3ZtemnyBuakjRh/2/vP//xP29hEI9IGpfTs2fPQoUPWRtxGvnz58hUrVthLqqqqLC6LXrht27aodRPbzuOr5fjx4xqU7lVuidrZxDezuDyrwn0iH3zwgV18/3/8j/9hLxH1eevWrdbS+fzzzy38iVqqtnSrRe+irq4uanf51EFtEtowoklN7ItMPaXApKAcTb286twmp6fcCtRE9d86ljF+HMV3laBqbPRa18n8V+NU+H7hhRfcC/2PwA8K2h888cQTNl00St1nrX+0k/Dfoxtpb7zxxsSJE/WPv8LtjCytQ61JPezcubNbenCyVguGWf514jqpT9BOFTP2rm3MBBuUxrD9KEv8bvgrSutBD+2tidrYNm40qIIdmC3IH5z+nOPRIFELVpToM3344YetgVqqvf2vhbrgbt2L0+L0cis2/C+DjFVQbpA7FgSUN7jzbLUrUh5vHfbHv/6qTApS4TwdFn9taOaalebvIoPMmjUrMcl23Bzi7B0lLuL73/++tZFx48YF1aMGxpYtW9zG5Y/Mp59+2h9mcc2G7uzB3IL062rCsssdS72YbUY/nYzi3NJiLVodiCYlcUVyYl5uBbZ/GaHdu3e7t++POk0MhrdtLH7/3ecStDSJJXT+LcJdrU2aPqKok36qkCb/m4qnK/7QjZ9eq3GuD8KPPLYgTVm5cmXG2nDyj3btuLUt6x/tam1va+IbeM7Qkcbf3nMGWBsM6qf2dLbe7KE6r2dLigZ6L6pnbBiIW65m+5vf/Ca+/cbHofnoo48GDBjQNI8rhpa1tFfF+fPJvxqvfhiIXdpALePHITJkb3RGQaxHjx56+/GLJmQc/Ai4QJf4jZ5VUK5Kz5+Z6H8bbH7/WxDDc35Y+qRaloJal+Jc/FEHWpA0Ju7C0pw5c8ZP1F3n9XfOnDnZX7u4JQbcG8+zkbq9ydVkQZWlKCV0nz59FB2ee+45DQJN1I7z7bff1prVUz/96U/9b7/iJbS7Nun27dvt6xD9ra+vV5vz589bmwyJe26jOagPr732mktQNFulTWrvJxxuI7/vvvvUXvsVt2EfOXJk+PDhekrFhv+Vto2bYLWonLBopZe4xoo4Y8eO1URtSPF4EcizKuwT0dK1/5g8ebJFNG0eH3744R133KGnhg0bZp+CUU5gxYza79y502ar9urhAw88oOlanCtsLBbfcsstwYlGSh8VQLX5BdW1tXfbj53xqIDy+uuv215fC1IBv2zZMv/r6kT2KSiLUkC016qr69at09y0TvJcUEevshREL9GH6D50/aOHLs7qoUoCNbvtttsU4Fx2cvLkyenTp2tZern/NYSLTRo5+ihthatv+oy06jR9woQJwVNu8Pt7oxYMs/zrxHXy8ccf18fhPmhjY8bfY2kl2JU89ZbdaNFEzdz/6LUebFmarb07UU8Ui638DoqrZgdnnkN5LVtRtqPSUrSutERN1PvSu9NEbZV+qe/WVbAzSLyUpSUWGvka/8F+xdr7Xypp523jR322L+O1rrQtaIr4i8vfYbc2hg4dqm3NjVhNnzdvnhYnebYOsVjtDwOTZxEaGNbY6L3oHWm6Yr59oG6L0EStB2uWLS10Zw/mtHchienXVYZll/gGo6VZGf10tK0p2PolrtHgsZMzE9PZgO01Eo9BWR3u3zrLPjjVMC4ga/3Yqgi2TbUM+p+24ZjETzPnFqF9sZ0A5aKoKG1QIbd582Z7mCH/m7IPJSNdCb6JcAHQNRb1UCNTAUHT9ZLEtRHX7Gj/0Y9+5I92vRdL2dWB3bt3W2PRx5E/1iXSHGx7zx9gbTBopY0ePdoFdsfWv62l7Gig3tqXdGrvlquJSnJGjhx5880366lg+7VFB9uRMhbb+aq3Bw8etDWmv/rfP96YMWLVJv9qLMswsI09eHfNyt7ojKt84t+jBaVvNkUbzSS+j9bKsUPZ7mQWrT19InkyE2sZ9L/UGJ7/w7qaFFRsbcc/I62QliWNibuwNPaqhx56yA1pxUx9KJp/fB+RxtZtPM5o/bsxnLGRXn0WVFmKUkJL/LtS238r7PqH/m1HoldFjzNr4DwyXq794vHjx6MHl+kdacSo5nFblNvINX39+vXBUFAz+3bcHzq2nfurRa9avHixmmlP4IKs0QasxWnwKZxFk1LkWRX2iUj80JCFS78AVq/sNnfx79fFxQUXeZW12LlG2jCsjdj28y//8i96a0F1rWiixgrf9vKMyNis8+fPa+W7VM+o/9o4Nc8ZM2ZEk9IpTilGBLEsbs2aNfqgFTjiR0Q1gK0I9/ciLhrqQwxuFWgjXILVq24vWLBA0/1I1IJhln+duE5qWMbfl40Z/3NJ3FEFXJfim7ZYEqP34u8vMwansuFgcKZpwYrSOFRjZcbB9q4+WCatTyqa5K0r9Taa1MS+DxL/yKTlPY888oim+5+my1q0aJuiRasD6oabYtR/JYtq6Vcy+Tvs1kZ8YLun3AaYLW3zzFiEOmy1nL8IxTeFAk1UxAs+HRU8+pSV07jomiEt3GUP5owgEx/V6t5VhmWbZ55xG8gTDPVxK9SoWVAq20Jzpk1a1VrhwZYo7mP1B+T+/fvj87TFde3a1T85Kx400jYcE/80828R2XNuVv43ZR+KxGOaPeWnKxkBUA8tCEvOPjc72uO7JPtk9ZR/BkT+0JHGDQzNJ2eAtcEgWkQQ2EuKBirLVZxruSqkg8au//72K/FxqDHz2GOPaWJ8LxPIGFf5V2O5hoG9kSAfblbOTSPxezStYetevLROFD9pxXzRdPsAPwbmz0zcYPP7X1IMl/wfVp6om8HWdrB0aXHSqFnFX5JGI03vNCi23Qp89dVXo0mZbA0EcSb/RnqVWVDFKUoJrbEVv1aBdl3agVVdeYF425HoVdHjy2cI/PSnPw3CU05pe6Y08U3UjdH4129G26ee9YeOzcRfLRZltJkFeYyx9+jvkxLlWRX2iSRmftoGlBTqWXcWVnavxKpuf4OxD9TPmBVPFVXVN3vKfXYuYrp6276Ruueee4LzwK+GLbTZmOg2Zv9Xf3Hus047vBP/CaKLhvEzOTWw7YQifzyb7du3a7X7I6QFwyxNfJ24TibuLG3M+O0tUCos/td//ZdNidOr9BbSvsDWSo7/yCrP4FSbaFKKUldU9mdqY9LvpFtXQU/cfPz9geapt/P222/rKT9o2JYV33AS+xzslkrqsGvsV+COdqt6Sg3ULJqULm1TyrOIMWPGuPeVMTBK+mVUWujOHswZASEe268+LMfnmVNGP30aA2oWDBt7beLHEee2xOCbFIvbeQ5AJW4Rti37/U/bcEz808y/RdiwUWPl5dbg6iX21rqUka74H7TGsEZy2gq0gRHMP0Ozoz1xz6VqRE9Nv3yLGrep5ox1idxM8u+JbDAkbkd6Kn80sB6mLddmFWxrtmh/HFpCn/ghBtJGbEmrsVzDwN6I+qNeRZNyyN7oHPVNPQw+IIt+6nz2t4SOoo19YRqkOpqn5pz2qfniQc+tar//GbHR1qc/Bkr6sOxhi1NQW9v+0iW7A5KRNOb88iJbWuhIZOs2aKyVn3MjdW+2ZVlQxSlKCe0nWE7ixm+jQa+KHl8+eKgPePLkyUeOHMmofxJlDy/NTd1QBzQIfvKTn2gMaVlqn7iJpv3azSol/+tD28791WJhXfNPPI3K1lKz+7Y8q8I+kcQFuTfiVq/1KuOLT/uMtESVfDbF3po2DG0eNkVzsyhsc3PvwrY9f/ux75jVgZEjR+7fvz/PuSuBixcvaibaepXXKmT36tVLfdMM9b707qJGSbQ2tE78KJZI60FrQ+9C7yWadCW3Dt13fm4Yx39/a08lLtRWo7/mWzDMTJ514jqpXYhN8dmY8dtrZ2lf5N92223r1q1LXLfqpxoEebnPZqvC2L6/dFNyDs40pa4o+0yDr+oc65IGqtununWlp2yKY9tpzeWzkqwn9gWtrQ23ei2vctuCVpF9g7Ns2TJr4AvGSUkddmsjcc7WWDPXIqJJ6ezd+cPAlLoIWxUurfe5WSWOw0Ba6M4ezGnvQmyjExfbrz4s2zzVLD5asmX002fz9yOS9qTazPVad2ilWVYtB6HDPqbEwkxD6/3336+trX3yySe1/bofyPnv0T53v/8ZG44En2ZJW4R6aGdLqScvv/xycL5ATnnelH0oOdMV9VwP0wJg9tqIa3a0x/cvEoyiUmNdIreR5gywYnNOzJXzRwM1sDNv05Yb337FFu2PQ/tcms2mJO0zKmk1lmsY2GyDd9esnPPXurXjGX4/rfT1zwJolr0k8UhjPBzlyUzcGPD7X1IML+nDusoU1NZ28BlZB1qWNObZDwY0qg8cOKCs7Nlnnx02bJi7LG48dCSydRs0LmmXbXNoQRZUiQp0ObH4xpC48duORK+KHjdt/Bs2bHA7vAEDBqxfvz4+tzRpeybRJqcP3mZrtIV3bfqNvr+RuDHk98oX36ptir9abEVlS1xLvjyrIuMTib8Ra5xxYNO9xH1Gaqn2LrmxLyatolaQUqhye1ZLT4M3pVdZCBOFVCU0OfMhBTvFaAVKe63pePm6Ec2uOvtEmv0+zJr5yUFcMEQTh7Gxp/yB4diC/Kfin04g/pL86ySjk2LDIFiHX331lZ3GL5qn3rV2P36EtfWQlu6IdTi+FeQcnGlKXVH2UO0z+F3KWFc2pN3+2L5dtn2J7S1cgmL7EtdD1+dstsSSOpy9NjJWeJzmoMbBMJBSF2EDI1vaZ+ez+ehv9PiyjA9I0t6FBANDrPPZEmfluM6Umgxl9NMXP/Jj9XBJX+27T9B1UumO9n3xczI///zzsWPHWqbraJ9ol5bxV7itOr//2Z9L8Gm6LmVzs1J7bWjWMXVm4sSJ+TPg/G8q40OJvzt7R2knKWSvjbiyjPZSY10i99GkbaRp21HinO19ZbMFueWmbUrx5Yot2v/Isj8XX9q6LWk1lmsY2EJdZpVT/vnbGYUut9F+alrT9QXyrCjHHbh2nbSdYL8rD2Dmz0zch+73P2MzjI+Bkj4saXEKKra2/aWLdaBcSWMG7QsWLFig1djU94jKAasI4qEjka3boLF1L5vrfIuzoErUFkpoo1Gusa4Rr2dF20DOQGMzjA+vA94FJ1SXfvLJJ3/60580Pb6Juo08bSjYS/ycxqb4q8VWVLbEtRSXvSoyPpH4G7HGJZXQYhuGpXR6y3rjtv3InDlzlKnYIWv76OMrTfNU5a/6X8+Ktn+tf702ejqJntVb1pyV9PzsZz/T/BsaGuybLVtKs6suT5iTPM2CIZoRDe0pfyw5tiD/qfinE7CXuGFW0jrJ6KTYMIivQ+0IlacqW7VcU8vSB+3a2HpwmX2cdTi+FeQcnGlKXVH2UO0z+F3KWFf2/ZH7vlmpntaJNbOaxA65Ww8TP9xsNquSOpy9NjJWeFx82JhSF2EDI1uzn7Kkhe6MD0jS3oXYivU/F+t8tsRZOdriJjVdHiLtMFSajH4GlIyqpYvSFn5LXZzNxJ37bfl0cCq4u7SkVu+vf/1r5UZKkhRnEle4rTq//9mfS/BpukGVzZ+VenLkyBHNwSWR48aNc3cNTFPSm8r4UOLt7R0lHkWX7LURF6wfJ3s+QYdLjXWJ3EeTtpHaUvyER31Lm7O9r2y2ILfcxOPtEt9+xRbtf2S2xIwdk5O2bktajeUaBnYEQi3z9NzJP3/bQ6mlnYKrDEd5Tsax00TacOxXIe7sFQss/sks+id/ZuI+dL//GZthfAyU9GEZzbbUFNTY2vaXLtaB1i6hL17+TbV6O3fu3N27d+sDtV902sz111pms3UbNLY5ZHOdb3EWVInaTgltLKdPvCZkmsThpa1FxYCm66+NQse2B/+Ddxt5Wq8UIzSG/BNWbSb+arGvZ/w2VyltVWR8IvE3Yr1KO49R7DPyv3QUe5V9prb9uB/YaOl6qH2AZZYZAVofgfps2adSop07d0ZPJHHffcavv5oxwHxW6lelnO3jNNvMrUP3TXniMDb2lD+WnKsfZiWtk4xOio2ZjHV45syZl156yTLXefPm2c5GcVwPE0/+MTZb922lm5JzcKYpdUXZZ9r1yusGZcheV/autWgb4e7bdwspNuBtif43U67QynPNj5I6nL02MlZ4XHzYmFIXYasozxX+siWGbsn+gNLehcQ3urKEZUsiO3fuXFIymtHPgI0HC8KWvvghNyfLmLs1/UDU7f7837OJdWls7IpQiSvcPne//9mfS/BplrRFBLTE119/XZ+jXv7YY4/53wLElfSmMj6UePvgd8gBW+HB/DOUZbSXGusSaVaaoWarmUeTrhRPeNQ3tVc/1Vub4uSPBufPn7fzntLKUW1fCrD+9iu2aP8ja3bH5KSt25JWY7mGgV5u1Wn8slgZsodHwNaMtjttfdr29X+eHzAH7FNQpaRP34ZKkOaVlJm4web3P2MzjMfwFo95rfD8KaixtR2MQOtAuZLGNO6Nxy8/lhY6Etm6DRqXusu29ppVSVlQJWprJbTRpmtfp+XZ+yYOr8Tt1tjX8/5G4honfvHvAp//rA13f7VYJPVnWxbxVZHxibg34lZv4kUmfLY2grN0bKHaPOrr6/Wu/a/f7G1qKdp+FEb98imRO00xe+uNr0/jVn7iAPNZ6qmWaZd8MO53htlXhvBPgEwcxsaeSvzQ7R35T5U6zEpaJxmdFBszza5DKxVc5mQ/iwrGhuO64V8wo6TBmabUFeWqjsT3Hpe9rmyL0G5De18Ndb8PlpSo/3qhFqfdjE03dvBQOxj1MJqUoqQOZ6+3jBUepzmocXwYlLoIWw/x+ZQqMXRL9gekNEVPJe65rWP+RleWsHzy5Mm77rpLc272CsC+tLUd56pNjSir+RValadGT+ejUWrnbWortrAf33LTdr4W9PSUv8Ltc/f77w6jBZW5uPDrf5r5t4hEtiU2mzqX9KYyPpT4qLORZrWETfFZeAzmn6Floz3ocKmxLpFmpRlqtjkDrGhxmpIYZ0qKBpaaBydHONop69lga7VF+/O3JabtmHxp67ak1VjGYWD7dDWOX9w7TfbwCFj0UOZ28OBBCynx7aJZliNpPtoA7UclQR1eUmbiBpvf/5Ji+FWO+ZwpqLG1HYzA8iaNadRS7ePbket/PHQksogRNC5pI5UWZ0EVp22W0Pq09Jk128wk7pncduu+FjLaGOx7UH8jcY0TjzPYCeEaK34VGg8iLoNRxpAzOOYRXxUZn4h7I66xC2rZN7VyBx6N/reDGAoZwfZj2Z5i9MqVK7WN5dl+LJHK3v5tfWq2qsyjSU3c2fh5Nn4bimof/xrPZ4ViYjN3Lo1/6CMjGtpTQcA19o78p0odZiWtk4xOio2ZZtehff3shpb7+iZxf2/dCL7cLWlwpil1RYnlXvEjUYmy15V9xa5hb/PUDiN64vK30Rr/M2fO1OBXvhI90cSyDX1k8XEVl7/D2estY4XH2QYSHwalLsIqNK2B+FGIkiSGbsn+gGyUWoYXTWqiNan1qVf5G125wrLdGFbz0SLSzugJpK3tRJaXKFOc3nS9JQVtPyDnZHmPlvjb3/42cSa2woOg7YKe+CvcPne//25nFC+B7M4oesr/NEvaIuJyfv1R0pvK+FDio84yY4Wa2tgdmM5cvkmM3z5by0Z7vMMlxbpEbnvPH2BtMCTGmZKigQ1RbUrxG0/aLdC0lOATt0X7a8B9pdVsIZqxbvOvxjIOA73cToFWe23pV7+3Crhvsn7xi19oV6Vuq/PRc6WwHEkx05I3PYyeaFJSZuIGm9//kmK4XOWYz5OCGlvb8ZhTxqQxjVqqffyglNv15Om/WMQIGpe6y25xFlRx2kIJrZjyzjvvqDazh42X7/et+O6+1MlgHejfv/8nn3wSTfKKwDvuuOPDDz+0wKdhNHny5C5duuiD9zcSt5HrKU3XcLG4rJ689957dmWC8ePH+2/QgkiwWlwEsS9vXLTVC/UGf/7zn8dXUSDPqsj4RNwb8Vev+6nYgAEDVO1onpqovqmHDzzwgKYnVtf23aoqKK2r4GsIW+H/8i//ogZBgNCqW79+vQtzWsrBgwf10QT74zjbYjXbJ554wr7rVT/VW020CxImDrCAlmvfCNjt791q1H7u5Zdfdpt60Mztg91d8oNAmREN7al4wBUbIf5T7tPJOcxKWicZnRQbM357ffovvfTS559/7kap1pKl7/5RZQvfWiePP/64+8pf3d6yZYt1OEhiSh2ciUpdUeIG+fDhw/2rEGkMaG89Y8YM/wCCm79iUVAJiBVd2sFrewmyBHthVVVV37599SkExwnVSduVqs+vv/666546o2Jg/vz5/s4mf4ddbxPXW8YKj1NjfZTq3r59+6JJTUpdhMaMJYIaGxpFGjluutroqSBipLFIEoRuyR7M2n7tmIBeqPBiAzgttsvVh2Vxb1nzsd+qKTe1F+qvimp19cknn1y5cqW1F3t3WrF55m8pjtanOq+3EGSWOdl3Xhq0GlSJe0/rkhbx9ttv25DTZ/fcc89pvVmW5q9w+9yD/tt+QRYvXmzTNey1hWqhmq3a+6lb/i1CPVeaW19f7zYENdYitKDgCFhcSW8q40OJjzqFgtmzZ2uK5rN8+XJ7iUaC+qk1rPhgb9mff4aWjfZ4h0uKdYk0K9ve8wdYGwyJccZtGnmigeapOWtWwXK1X1OqpqRCgVdP+duvLTr4yPwdk2pv26g1H60QjSvX0r3TeKjPvxrLOwzcRiHKQH71q19pPFiu8qc//Um90mrRKlLiZ+2zh0ec1TzKELRy0o72N8u+NdBuTvEkfrS/pMzEfQR+/0uN4fk/LK29lqWgxtZ2sHQpY9KYRkvUcjWrefPm2drTUrSsxNCawSJG0FjroaRddouzoIrTFkpomyLt27e3Ld/+X7FihW1a2ZQVWdAXjWP9b6NfW45lTqKkR/SPwrTGikakuI3EbeQvvvjixIkT9Y/60LXpwt3fvbjp4EBw5MGGe3y1bNu2zRYkernejl2oSRJXUSDPqsj4RNwb8VevaFVoS/huvrFeKUQGXyUaOwKgBsH2I3ZsQU/Ftx8bDOIvRf9rD+SCThq9R3u/opVvr506dao+FP2TZ+2JPib7Fta4z138Qahm9913n00XjRNFFvtf4yf4Xi1xGBt7yh9Ljo0Q/6kWDLP86ySjk2Jjxm9v3dNE0U7LraUhQ4Zod2VtRKPuN7/5jXtWa8ltU+pYjXftMdOCwRnXghUlekcuDoj/mcb7s2bNGpubVqkG6o9//GP/jWi/ZS9U0WXJjWMJiui9x6OTdrTWYaP1pnUbPYh9NDk7nL3eMlZ4nPIMfb5NS4g+dOtSCxahzVkbtftE/IEhzX7EJi10a0FanCYGa8zRdH9ManeufxTb//M//zPY6MxVhmWjj3vz5s1KoeyFifw3rv+jqUmC5VrKYk81++uYDBqfeoM333xzYvasrcbOKxG33rS6tE+Mr3D73IN+6v9HHnnku9c3saCkJS5YsMD6H6RuObcI94mL38YNiQwlvSn7UBI/9MRRF/RfM7eNVAm99oPZozTQstGe2OGcoSONZqUZqnH+AKu+aXrazEuKBtq/uCgkbr+mEkV73qbN94rt1xYdrAFtjKtXr3bv2u9/0DIj1OdfjWUcBqLVpaLFRaREbm5ueKQJluvSMwnqovwsHGm9KZIknhGTPzNxgy3opx6WFMNzflgu6qp7paagYms7vnTRFlGWpDGN+6ZG1GEbzzJ//vynnnpKE4PQmsbWQLxxqbvsFmdBlaUtlNDvv/++9vdur6lxrxFTX1+f/7NRiTh69GjbWhTUjh07ZtM16GfOnGkbqv7qf03RthFsom4jV6+Udqxatapv3756qBkq1m/YsCGei9hMEleLFvH888/37t1bcxAtd9iwYYo47oufDHlWRcYn4r+RaNJleguqhfR2bC1p+7n33nu1kaR9SaltRluOWsZTMXeykH+Ctzl06JA6rG7rWdEb0csVXNy3hhn0Hvfs2eM+R30E+iC06IwBlkiRYsuWLXp3FuDsQ9T6114watFEXdq6dWuzzSQjGtpT/lhyyjLM8q+TjE6KjRm/vT7ExYsXDxgwwOaslTB06FAlJYkrORjS+lj1KR84cCC+hbZscAZasKKMPjsF9+rqattP6E3dddddixYtOnnyZNTiMn36r7/+upvt008/7e8k7FQlPRWcwCZ7m85A01PadqJJVwrGlXrSq1cvrS7/u3MnT4ez11vGCk/0+eefT5482fqmPajejia2bBE2OLWBu0xIG74eqn2eZMUkhu7swWxUkDz66KPNxnbnasKyT+tKH/2oUaNclLaPWFM0N38V2Uaaxt8Yjd6sDQMNiWhS6VwCnZY9a8ip3LXkScPAjswnrnD73OP9tE3SBq0MGjTorbfe0ti2PXs8dcuzRWieK1euVAiyNhoPCk1aDzk/nfxvyj6U+JuStFGnvinmuF2nhpCWpSXmGaWBFoz2tA7nj3VxmpXb3nMGWBsM6qd6G026UknRQJ1XDemGkP6x/Vri9muLTvzIPvvss2Z3TBpjGaE+/2os4zAwGtuKGIpCbo1pzn369Bk3bty6des0Z2vm5p8mWK77cONHj0ti55t0SDlTN39m4voTXz+lxvA8H9bVpKBiaztx6RKEMtteSk0aM2j+iqWKqN9tFTlCayL7CBIbl7SRXk0WVEFavYQGUBZ+4hJNAgDgGmJPBABCCQ1UBhIXAMD1xZ4IAIQSGqgMJC4AgOuLPREACCU0UBlIXAAA1xd7IgAQSmigMpC4AACuL/ZEACCU0EBlIHEBAFxf7IkAQCihAQAAAADIhRIaAAAAAIBcKKEBAAAAAMiFEhoAAAAAgFwooQEAAAAAyIUSGgAAAACAXCihAQAAAADIhRIaAAAAAIBcKKEBAAAAAMiFEhoAAAAAgFwooQEAAAAAyIUSGgAAAACAXCihAQAAAADIhRIaAAAAAIBcKKEBAAAAAMiFEhoAAAAAgFwooQEAAAAAyIUSGgAAAACAXCihAQAAAADIhRIaAAAAAIBcKKEBAAAAAMiFEhoAAAAAgFxapYT++OOPe/bsOWzYsIaGhmgSAAAAAAAVrlVK6FdeeeWmJu+++240CQAAAACACsdRaAAAAAAAcqns30JfuHBh/fr1I0aM2L59ezQJAAAAAIDWUdkl9JdffnnnnXdyxjgAAAAA4BqghAYAAAAAIBdKaAAAAAAAcmmty4ndeuutKm5V4kaTLl+m+8EHH/z6668bGhpmzpzZqVMnTdFf/Z944bFz587V1tZWV1e3a9dOLbt06TJhwoSjR4/qKdXMmhJn87eXNzY27t+//9FHH9UL9ZRmolmtWrXqwoUL1sD4dbhe8tZbbw0aNEiNRf/ooSZGTa+kntTU1HTv3r1pyd9176mnnvr000+jp5vYDIcMGdK+fXtr04I3CwAAAAAogutQQu/atatbt276v2vXrlZYysCBA0+cOBE1bWKX9bZnq6qqOnbsaP/bAedmS+hvvvlm6tSp0dQrl/XII4+4MltcCb1169ZZs2bpHy1LS2xq+13hrcr222+/jVo3URH+wgsvuBl2amL/+8fDz549+/DDD9t0f556+1oJUaMm2W8WAAAAAFAE17qE7tOnz+233/7cc8+dOXNGExsbG99++2011lPTpk27dOmSNT537tyoUaM0cfr06dbSJq5bt27v3r32UPwDyNGky1Qkq5weMmSIitWLFy9qipall6s6VVW8adMmayZuJj/60Y+qq6t37txph51PnTr1xBNPaHrnzv9/e/fzCmsbx3H877Cxs7GSnoXSpBEpQopIIQuhTImSbFB+jJqyICs/mrERG1NIakpYWUhEYzGFIowIC6OZ4fk+vnPu7uaHczunY5yn92s1853vfc11ze7Tfd3X/HN8fKzNQkYzkvbCwoLMSuvyQt4a2Vgm0N3dLW2VlZVS1BAua5EVSbG+vt64F21xsQAAAACA9PrqCC0kf2qmNehHEq2NXdA6gpAXWknqgwj9/Py8sbERt2dbcuzY2Jj0u1yuWMk0iN1u9/v9seq7m5ub2tpa+WhmZiZWenuTjC3hWWxvb8dKyfh8PsnqZWVlFxcXsdI7ycYOh0PG9Hq9WrG4WAAAAABAen11hJaYenp6Giv9EAgEbDabOUOen58XFRXl5OTs7+9rJakPInQqxn5yYy+3McjExETchm0hYVs+cjqd+jYSiQwMDKRqNug9cGlzu92xksnq6qp81Nvb+/LyIm8tLhYAAAAAkF5fHaE7OjqMnc+GxCQcCoX6+vqkUlBQsL6+bn502eynETocDp+dnfl8vsnJyba2tpKSEj2sK2mE3tnZ0YpZXOQOBoMVFRVZWVlxDzPHuby8LC0tzcvLOzk5iZVMZLYyZkNDw8PDg7y1uFgAAAAAQHql4TixxIiYNAnf3d11dXVJUWRnZzudTgnDcTd+P4jQ0WjU6/UaJ3gpGUcrSSN00hweN21dWlFR0cdnZWvbf1+Zmvn3sbJYAAAAAEB6fd8ILSQGHx0d9fT06NnXGRkZY2Nj5stTXSjhc3FxUfrlwtHR0d3d3WAwqLumE6fxCxHa/Nh2Up+N0OKniwUAAAAApNe3jtCGx8dHj8eT/f5XT1NTU8bt2VQX3t7eVlVVZWVlbW5uxko//GaE1ueWU+3QNmibzWYLBAKxkmWpFgsAAAAASK+/I0Irr9crPdXV1ff391pJdWHSCQiJoxMTE3HT+FSEfnp6amlpkUrSc8IM2paRkfHxij6QuFgAAAAAQHr9TRH68PAwJyfHPGyqC3UCiU8s+/1+u90eN41PRWijkvgPWHEkY0ubw+FIPD7NisTFAgAAAADS65tG6LOzM4/Hc3V1ZWxjfnx8HB4elp6hoaFIJKJFGUoGlKLT6TT/BbRu5JZ6f3+/3sWNRqN7e3tSLCwsjJvGZyO0RGI9+qugoMDn8+kj1kJmOD8/b5zUfX19XVdXJ23Nzc1HR0cyAa1Lv8Rjl8tl3F62slgZrbGxsbi4WH5b7QEAAAAAfLFvGqF1BKmI/Pz83NxcfS0xUsKk9qiVlRX9n6rMzEyJx52dnTr+0tKS1oXNZtMzugYHB6enp+XF70RoEQwGdTu3kukZMzQPIquQ0Kt1Ybfb9QlnYf5xrCx2eXlZi+Pj41oBAAAAAHyxbxqhn56e5ubmampqNPpK8mxqavJ6vYnXRqPRtbW18vJyaZPmkZERvS38+vp6cHDQ3t6uI0iDpNBQKJQ4jV+I0CIcDm9tbbW2tmoqlm+RxCu5PW7btrx1u91VVVWa56W5trZ2dnb25uYm1mFtsdyFBgAAAIC0+yMRGgAAAACA/x8iNAAAAAAAlhChAQAAAACwhAgNAAAAAIAlRGgAAAAAACwhQgMAAAAAYAkRGgAAAAAAS4jQAAAAAABYQoQGAAAAAMASIjQAAAAAAJYQoQEAAAAAsIQIDQAAAACABW9v/wKYZM2wTRfX/AAAAABJRU5ErkJggg==)"
      ],
      "metadata": {
        "id": "PwdYobi-Ovpo"
      }
    },
    {
      "cell_type": "markdown",
      "source": [
        "Table: The table format provides a clear and concise comparison between the actual and predicted values for a few instances, highlighting where the model is performing well and where it has significant errors.\n",
        "\n",
        "Scatter Plot with Regression Line: The scatter plot provides a visual representation of the entire dataset, showing how well the predicted values align with the actual values. The regression line (in blue) indicates the trend and helps in visualizing the overall performance of the model. Points close to the line indicate accurate predictions, while points far from the line indicate larger prediction errors."
      ],
      "metadata": {
        "id": "-jffkLUlOuOH"
      }
    }
  ]
}