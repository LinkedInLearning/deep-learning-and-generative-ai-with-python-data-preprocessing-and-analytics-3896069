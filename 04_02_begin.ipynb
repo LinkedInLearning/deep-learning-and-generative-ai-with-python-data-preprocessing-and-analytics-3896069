{
  "nbformat": 4,
  "nbformat_minor": 0,
  "metadata": {
    "colab": {
      "provenance": [],
      "toc_visible": true,
      "authorship_tag": "ABX9TyNgdeejhL9KtpkKkU5yvKX4",
      "include_colab_link": true
    },
    "kernelspec": {
      "name": "python3",
      "display_name": "Python 3"
    },
    "language_info": {
      "name": "python"
    }
  },
  "cells": [
    {
      "cell_type": "markdown",
      "metadata": {
        "id": "view-in-github",
        "colab_type": "text"
      },
      "source": [
        "<a href=\"https://colab.research.google.com/github/LinkedInLearning/deep-learning-and-generative-ai-with-python-data-preprocessing-and-analytics-3896069/blob/main/04_02_begin.ipynb\" target=\"_parent\"><img src=\"https://colab.research.google.com/assets/colab-badge.svg\" alt=\"Open In Colab\"/></a>"
      ]
    },
    {
      "cell_type": "markdown",
      "source": [
        "# Exploratory Data Analysis\n",
        "\n",
        "In this section, we will seek to gain insight into the data using visuals such as: Bar charts, Heat maps, histograms, scatter plots, and more."
      ],
      "metadata": {
        "id": "BFCe9qG-ypMK"
      }
    },
    {
      "cell_type": "markdown",
      "source": [
        "The exercises for this challenge lab are found in the EDA section.\n",
        "# EXERCISES  - Under the Exploratory Data Analysis Section\n",
        "1. Bar Chart - Count how contracts are distributed\n",
        "2. Pie Chart - Graph contract type by distribution\n",
        "3. Scatter Chart - Graph Tenure in Months vs. Total Revenue\n",
        "4. Heat Map - Enter Code to visualize feature relationships\n",
        "5. Histogram - Graph a histogram of Tenure\n",
        "6. Simple Feature Engineering - Create the Customer Lifetime Value\n",
        "7. Save the cleaned file - code provided."
      ],
      "metadata": {
        "id": "d6a18oxOOZ7O"
      }
    },
    {
      "cell_type": "markdown",
      "source": [
        "#Load and Explore the Data"
      ],
      "metadata": {
        "id": "PkoFdxD51wHc"
      }
    },
    {
      "cell_type": "markdown",
      "source": [
        "In the previous lab, you performed data preprocessing. In this exercise, you perform Exploratory Data Analysis (EDA).\n",
        "\n",
        "First, upload the cleaned_telecom.csv file.\n",
        "\n",
        "Next, run all the cells in the **Load and Explore the Data** and in the Data Preprocessing sectiosn. Your hands-on exercise begins in the Data Visualization and Analysis section.\n",
        "\n",
        "\n"
      ],
      "metadata": {
        "id": "uGyOAOlH11DH"
      }
    },
    {
      "cell_type": "markdown",
      "source": [
        "## Step 1. Import Libraries"
      ],
      "metadata": {
        "id": "-KXh_OeJ2jev"
      }
    },
    {
      "cell_type": "code",
      "execution_count": null,
      "metadata": {
        "id": "RCxGN2NZ1OwO"
      },
      "outputs": [],
      "source": [
        "import pandas as pd\n",
        "import numpy as np\n",
        "import matplotlib.pyplot as plt\n",
        "#%matplotlib inline\n",
        "import seaborn as sns\n"
      ]
    },
    {
      "cell_type": "markdown",
      "source": [
        "##Step 2. Load Data"
      ],
      "metadata": {
        "id": "uWlknIf41tup"
      }
    },
    {
      "cell_type": "code",
      "source": [
        "#Load the dataset\n",
        "\n",
        "df=pd.read_csv('/content/telecom_dataset.csv')\n"
      ],
      "metadata": {
        "id": "vARdZ0j2aY84"
      },
      "execution_count": null,
      "outputs": []
    },
    {
      "cell_type": "markdown",
      "source": [
        "##Step 3. Initial Exploration"
      ],
      "metadata": {
        "id": "gsIAypUCaeZH"
      }
    },
    {
      "cell_type": "markdown",
      "source": [
        "#### 3.1 Show first five rows of the DataFrame."
      ],
      "metadata": {
        "id": "rUenQD56faEz"
      }
    },
    {
      "cell_type": "code",
      "source": [
        "# Show first five rows\n",
        "\n",
        "df.head()"
      ],
      "metadata": {
        "id": "stxzX2Y_ag8A"
      },
      "execution_count": null,
      "outputs": []
    },
    {
      "cell_type": "markdown",
      "source": [
        "### 3.2 Show the last five rows of the DataFrame"
      ],
      "metadata": {
        "id": "Mzt2R3lfhg3_"
      }
    },
    {
      "cell_type": "code",
      "source": [
        "df.tail()"
      ],
      "metadata": {
        "id": "FEX3MkWFhjAS"
      },
      "execution_count": null,
      "outputs": []
    },
    {
      "cell_type": "markdown",
      "source": [
        "### 3.3 Show information about the Data\n",
        "\n"
      ],
      "metadata": {
        "id": "UiNvM-dVgXPI"
      }
    },
    {
      "cell_type": "code",
      "source": [
        "df.info()"
      ],
      "metadata": {
        "id": "zLTPQfkege6A"
      },
      "execution_count": null,
      "outputs": []
    },
    {
      "cell_type": "markdown",
      "source": [
        "#### 3.3.1 NEW: Let's add code to convert the column names to lowercase"
      ],
      "metadata": {
        "id": "xskuoNipszNd"
      }
    },
    {
      "cell_type": "code",
      "source": [
        "# Convert column names to lowercase\n",
        "df.columns = df.columns.str.lower()\n",
        "\n",
        "#Replace Spaces with Underscores\n",
        "df.columns = df.columns.str.replace(' ', '_')\n"
      ],
      "metadata": {
        "id": "Oc_HsuEks6fj"
      },
      "execution_count": null,
      "outputs": []
    },
    {
      "cell_type": "markdown",
      "source": [
        "#### 3.3.2 NEW: Let's add code to replace spaces with underscores."
      ],
      "metadata": {
        "id": "_Y58QjCetmMs"
      }
    },
    {
      "cell_type": "code",
      "source": [
        "# Replaces spaces with underscores.\n",
        "\n",
        "df.rename(columns=lambda x: x.replace(' ', '_'), inplace=True)\n",
        "\n",
        "df.info()"
      ],
      "metadata": {
        "id": "LVuIblvItwIk"
      },
      "execution_count": null,
      "outputs": []
    },
    {
      "cell_type": "markdown",
      "source": [
        "### 3.4 Show the DataFrame shape\n",
        "\n",
        "The .shape() method gives you the number of rows and columns in the dataset. You can also see this information in the df.info() outupt."
      ],
      "metadata": {
        "id": "Lf5r0eKnjo1P"
      }
    },
    {
      "cell_type": "code",
      "source": [
        "df.shape"
      ],
      "metadata": {
        "id": "QMHL5hwkj0k1"
      },
      "execution_count": null,
      "outputs": []
    },
    {
      "cell_type": "markdown",
      "source": [
        "### 3.5 Show the data types\n",
        "\n",
        "Show DataFrame data types. Although the df.info() provides this information, it is good to see the column datatypes on their own."
      ],
      "metadata": {
        "id": "YjQKKfaKiSWJ"
      }
    },
    {
      "cell_type": "code",
      "source": [
        "df.dtypes"
      ],
      "metadata": {
        "id": "wr7rXwkPid22"
      },
      "execution_count": null,
      "outputs": []
    },
    {
      "cell_type": "markdown",
      "source": [
        "### 3.6 Show DataFrame statistics\n",
        "\n",
        "The describe() method computes and displays summary statistics for the dataset."
      ],
      "metadata": {
        "id": "ihAUua2rhUc3"
      }
    },
    {
      "cell_type": "code",
      "source": [
        "df.describe()"
      ],
      "metadata": {
        "id": "p_saI50qjTht"
      },
      "execution_count": null,
      "outputs": []
    },
    {
      "cell_type": "markdown",
      "source": [
        "Below is bar charts that plots the disribution of each numerical column."
      ],
      "metadata": {
        "id": "Nrff0VTtdpWI"
      }
    },
    {
      "cell_type": "code",
      "source": [
        "# Extracting numerical columns\n",
        "numeric_columns = df.columns[ df.dtypes!='object']\n",
        "\n",
        "# Plotting the distribution of each numerical column\n",
        "for col in numeric_columns:\n",
        "  plt.hist(df[col])\n",
        "  plt.xlabel(col)\n",
        "  plt.ylabel('Frequency')\n",
        "  plt.title(f'Distribution of {col}')\n",
        "  plt.show()"
      ],
      "metadata": {
        "id": "BPCctC1cDZHd"
      },
      "execution_count": null,
      "outputs": []
    },
    {
      "cell_type": "markdown",
      "source": [
        "### 3.7 Check for duplicate values\n",
        "\n",
        "Checking for duplicates helps identify rows that are exact copies of others. These duplicates can arise from data entry errors, merging datasets, or repeated measurements."
      ],
      "metadata": {
        "id": "Qx1qu5ktHTW_"
      }
    },
    {
      "cell_type": "code",
      "source": [
        "df.duplicated().sum()"
      ],
      "metadata": {
        "id": "N17vZN65HVSl"
      },
      "execution_count": null,
      "outputs": []
    },
    {
      "cell_type": "markdown",
      "source": [
        "### 3.8 Check for Missing (Null) Values\n",
        "\n",
        "You probably saw null values in the a column when your reviewed the df.info() output. Here is the .isnull() method, which shows you any null values in the dataset as well."
      ],
      "metadata": {
        "id": "pJqtCrAAjXqN"
      }
    },
    {
      "cell_type": "code",
      "source": [
        "df.isnull().sum()"
      ],
      "metadata": {
        "id": "n2U9c_gHka69"
      },
      "execution_count": null,
      "outputs": []
    },
    {
      "cell_type": "markdown",
      "source": [
        "#### 3.8.1 Visualize the missing values"
      ],
      "metadata": {
        "id": "qDl7PwbJuzCU"
      }
    },
    {
      "cell_type": "code",
      "source": [
        "# Add the msno library to visualize the missing values\n",
        "\n",
        "import missingno as msno\n",
        "\n",
        "msno.bar(df)"
      ],
      "metadata": {
        "id": "VHSr56iOvPNF"
      },
      "execution_count": null,
      "outputs": []
    },
    {
      "cell_type": "markdown",
      "source": [
        "### 3.9 Check for Unique Values"
      ],
      "metadata": {
        "id": "Qb-GpJ4QJ6im"
      }
    },
    {
      "cell_type": "markdown",
      "source": [
        "Show unique values in a few columns with the highest missing values - just for curiousity.\n",
        "\n",
        "\n",
        "---\n",
        "\n",
        "\n",
        "\n"
      ],
      "metadata": {
        "id": "SiUKadY6m3_v"
      }
    },
    {
      "cell_type": "code",
      "source": [
        "# Get unique values for a specific column\n",
        "print(\"Unique values in 'offer':\", df['offer'].unique())"
      ],
      "metadata": {
        "id": "b054cmZcm6Uw"
      },
      "execution_count": null,
      "outputs": []
    },
    {
      "cell_type": "markdown",
      "source": [
        "What does this all mean?\n",
        "\n",
        "* nan: Represents missing values in the 'Offer' column. It indicates that there are entries in this column where the data is missing.\n",
        "* 'Offer E', 'Offer D', 'Offer A', 'Offer B', 'Offer C': These are the unique non-missing values present in the 'Offer' column. Each represents a different offer.\n",
        "\n",
        "Next Steps? We'll need to handle these data quality issues in the data preprocessing section!\n",
        "\n"
      ],
      "metadata": {
        "id": "zBsHGuXUoKor"
      }
    },
    {
      "cell_type": "code",
      "source": [
        "# Get the count of unique values for each column\n",
        "unique_counts = df.nunique()\n",
        "\n",
        "print(\"Count of Unique Values for Each Column:\\n\", unique_counts)"
      ],
      "metadata": {
        "id": "__lWUxY8J_8O"
      },
      "execution_count": null,
      "outputs": []
    },
    {
      "cell_type": "markdown",
      "source": [
        "### 3.10 Initial Check for Outliers\n",
        "\n",
        "On a column\n",
        "\n"
      ],
      "metadata": {
        "id": "P7Z0mxbILbQ0"
      }
    },
    {
      "cell_type": "code",
      "source": [
        "# Create a box plot\n",
        "plt.boxplot(df['age'])\n",
        "plt.title('Box Plot of Age')\n",
        "plt.ylabel('Age')\n",
        "plt.show()"
      ],
      "metadata": {
        "id": "RyQkTqxkLx2n"
      },
      "execution_count": null,
      "outputs": []
    },
    {
      "cell_type": "markdown",
      "source": [
        "# Data Preprocessing"
      ],
      "metadata": {
        "id": "VadWVleuHUI0"
      }
    },
    {
      "cell_type": "markdown",
      "source": [
        "## Step 1.  Handle Missing Values"
      ],
      "metadata": {
        "id": "5sWRRuhH8zta"
      }
    },
    {
      "cell_type": "markdown",
      "source": [
        "Data Understanding:\n",
        "\n",
        "Note:  We have made this dataset intentionally \"messy\" when it comes to missing values. Before filling missing values, understand why data might be missing and whether imputation could bias your analyses.\n"
      ],
      "metadata": {
        "id": "0LZ0JTAxSato"
      }
    },
    {
      "cell_type": "markdown",
      "source": [
        "**Methods**\n",
        "\n",
        "Use methods such as mean/median imputation, forward/backward fill, or dropping missing values depending on the context."
      ],
      "metadata": {
        "id": "IW4SX9lcqFRH"
      }
    },
    {
      "cell_type": "code",
      "source": [
        "# Let's see information on the DataFrame again.\n",
        "# Total row count is 7,043.\n",
        "# Note both objects, integers, and floats have missing values.\n",
        "\n",
        "df.info()"
      ],
      "metadata": {
        "id": "eR7Bo8MRSbEn"
      },
      "execution_count": null,
      "outputs": []
    },
    {
      "cell_type": "markdown",
      "source": [
        "Let's show the number of missing values for numbers and objects."
      ],
      "metadata": {
        "id": "xQMtz5ZVnW_S"
      }
    },
    {
      "cell_type": "code",
      "source": [
        "# Calculate missing values for numeric and object columns\n",
        "missing_values_numeric = df.select_dtypes(include=['number']).isnull().sum()\n",
        "missing_values_object = df.select_dtypes(include=['object']).isnull().sum()\n",
        "\n",
        "# Display the results\n",
        "print(\"Missing values in numeric columns:\")\n",
        "print(missing_values_numeric)\n",
        "print(\"\\nMissing values in object columns:\")\n",
        "print(missing_values_object)"
      ],
      "metadata": {
        "id": "BFe_qhVNnKgL"
      },
      "execution_count": null,
      "outputs": []
    },
    {
      "cell_type": "code",
      "source": [
        "# Put the columns that need to be filled in.\n",
        "\n",
        "categorical_columns = ['multiple_lines',\n",
        "       'internet_service', 'internet_type', 'online_security', 'online_backup',\n",
        "       'device_protection_plan', 'premium_tech_support', 'streaming_tv',\n",
        "       'streaming_movies', 'unlimited_data']\n",
        "\n",
        "for column in categorical_columns:\n",
        "    df[column].fillna(df[column].mode()[0], inplace=True)  # mode()[0] to get the most common value\n",
        "\n"
      ],
      "metadata": {
        "id": "7uShEbhAb96t"
      },
      "execution_count": null,
      "outputs": []
    },
    {
      "cell_type": "code",
      "source": [
        "df.info()"
      ],
      "metadata": {
        "id": "SmQ8iR3CUoB2"
      },
      "execution_count": null,
      "outputs": []
    },
    {
      "cell_type": "markdown",
      "source": [
        "Looks like we missed two objects with missing values: \"offer\" and \"payment_method\". We also still have to numeric features with missing values: \"gigabits_used\" and \"income\".\n",
        "\n",
        "EXERCISE: offer and payment_method."
      ],
      "metadata": {
        "id": "IBNp76P5glHp"
      }
    },
    {
      "cell_type": "markdown",
      "source": [],
      "metadata": {
        "id": "BsFyeFaunMWp"
      }
    },
    {
      "cell_type": "code",
      "source": [
        "# This takes care of the object columns.\n",
        "\n",
        "# Define the values to fill for each column\n",
        "fill_values = {'offer': 'None', 'payment_method': 'Credit Card'}\n",
        "\n",
        "# Fill missing values\n",
        "df.fillna(fill_values, inplace=True)"
      ],
      "metadata": {
        "id": "LV7kLcIZfXU7"
      },
      "execution_count": null,
      "outputs": []
    },
    {
      "cell_type": "code",
      "source": [
        "# This takes care of the numeric columns.\n",
        "\n",
        "# Calculate the mean for each column\n",
        "mean_gigabits = df['gigabits_used'].mean()\n",
        "mean_income = df['income'].mean()\n",
        "\n",
        "# Fill missing values with the calculated means\n",
        "df['gigabits_used'].fillna(mean_gigabits, inplace=True)\n",
        "df['income'].fillna(mean_income, inplace=True)"
      ],
      "metadata": {
        "id": "IQH4nXrCl6Tk"
      },
      "execution_count": null,
      "outputs": []
    },
    {
      "cell_type": "code",
      "source": [
        "# Run this cell to confirm that all missing values are filled.\n",
        "\n",
        "df.info()"
      ],
      "metadata": {
        "id": "hmCvHCogf-Qt"
      },
      "execution_count": null,
      "outputs": []
    },
    {
      "cell_type": "markdown",
      "source": [
        "## Step 2. No duplicate values"
      ],
      "metadata": {
        "id": "YRq1C_xyocyb"
      }
    },
    {
      "cell_type": "code",
      "source": [
        "df.duplicated().sum()"
      ],
      "metadata": {
        "colab": {
          "base_uri": "https://localhost:8080/"
        },
        "id": "Qbk9UcjUor67",
        "outputId": "bcdbd378-eb27-411f-9b4d-7ac9e05dd7ed"
      },
      "execution_count": null,
      "outputs": [
        {
          "output_type": "execute_result",
          "data": {
            "text/plain": [
              "0"
            ]
          },
          "metadata": {},
          "execution_count": 25
        }
      ]
    },
    {
      "cell_type": "markdown",
      "source": [
        "## Step 3. Handle Data Type Inconsistency"
      ],
      "metadata": {
        "id": "Gx8qHHc6otin"
      }
    },
    {
      "cell_type": "markdown",
      "source": [
        "Convert columns to appropriate data types using methods like astype() in Pandas.\n",
        "\n",
        "\n",
        "Zip Code has the incorrect data type. It is shown as an integer - it is not a number. In data processing and analytics, zip codes are often not treated as integers or numeric values, even though they consist of digits. See the course lesson on why this is the case."
      ],
      "metadata": {
        "id": "D3BuHP7ppQnY"
      }
    },
    {
      "cell_type": "markdown",
      "source": [],
      "metadata": {
        "id": "PN5RotIunbsd"
      }
    },
    {
      "cell_type": "code",
      "source": [
        "# Enter the code to convert the 'zip_code\" column to an object (string)\n",
        "\n",
        "df['zip_code'] = df['zip_code'].astype(str)\n",
        "\n",
        "# Enter the code to check the data type of the zip code column\n",
        "\n",
        "print(df['zip_code'].dtype)"
      ],
      "metadata": {
        "id": "Y6fRrZUnpN5w"
      },
      "execution_count": null,
      "outputs": []
    },
    {
      "cell_type": "markdown",
      "source": [
        "## Step 4. Handle Outliers"
      ],
      "metadata": {
        "id": "iVi-3ttjo786"
      }
    },
    {
      "cell_type": "markdown",
      "source": [
        "An outlier is a data point in a data set that is distant from all other observations. A data point that lies outside the overall distribution of the dataset. Z score is an important concept in statistics. Z score is also called standard score. This score helps to understand if a data value is greater or smaller than mean and how far away it is from the mean. More specifically, Z score tells how many standard deviations away a data point is from the mean."
      ],
      "metadata": {
        "id": "j-IRJNcRvdqK"
      }
    },
    {
      "cell_type": "markdown",
      "source": [
        "The results below are from our initial datacheck."
      ],
      "metadata": {
        "id": "z10crwWmDA1o"
      }
    },
    {
      "cell_type": "markdown",
      "source": [
        "![image.png](data:image/png;base64,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)"
      ],
      "metadata": {
        "id": "RMu4Sfs5zc-C"
      }
    },
    {
      "cell_type": "markdown",
      "source": [
        "Let's create a z-score for the total revenue column, since it is one of the features that we'll need to calculate Customer Lifetime Value."
      ],
      "metadata": {
        "id": "0jYCx9oSwXtE"
      }
    },
    {
      "cell_type": "code",
      "source": [
        "# Create a z-score for the column 'total_revenue'\n",
        "\n",
        "from scipy import stats # SciPy is a widely-used library for scientific and technical computing in Python. The stats module within SciPy contains a wide range of statistical functions, probability distribu\n",
        "\n",
        "z_scores = stats.zscore(df['total_revenue'])\n",
        "\n",
        "# Display the z-scores\n",
        "z_scores"
      ],
      "metadata": {
        "id": "H5Au52Ma4SQS"
      },
      "execution_count": null,
      "outputs": []
    },
    {
      "cell_type": "markdown",
      "source": [
        "Check the rows with a z-score over 3. If there are rows with a z-score we can drop them. (Ektamaini, 2020) https://www.geeksforgeeks.org/z-score-for-outlier-detection-python/\n"
      ],
      "metadata": {
        "id": "FdTkOyij4tD6"
      }
    },
    {
      "cell_type": "code",
      "source": [
        "# Check rows with a z-score over 3. A z-score A Z-score, also known as a standard score, measures how many standard deviations a data point is from the mean of the dataset. It is a way to standardize data points within a distribution, allowing for comparison across different scales or distributions.\n",
        "\n",
        "df[(z_scores > 3)]"
      ],
      "metadata": {
        "id": "Cic0-_2c4pbG"
      },
      "execution_count": null,
      "outputs": []
    },
    {
      "cell_type": "markdown",
      "source": [
        "There are five rows with a z-score over 3."
      ],
      "metadata": {
        "id": "v7eBRFdC4hXs"
      }
    },
    {
      "cell_type": "code",
      "source": [
        "# Remove any rows with a z-score over 3 (keep rows with a z-score <3\n",
        "\n",
        "df = df[(z_scores < 3)]\n"
      ],
      "metadata": {
        "id": "IsJK1bAO5RO7"
      },
      "execution_count": null,
      "outputs": []
    },
    {
      "cell_type": "markdown",
      "source": [
        "Let's check again - for rows with a z-score over 3."
      ],
      "metadata": {
        "id": "Gs5T9kIp5nOT"
      }
    },
    {
      "cell_type": "code",
      "source": [
        "# Check rows with a z-score over 3. A z-score A Z-score, also known as a standard score, measures how many standard deviations a data point is from the mean of the dataset. It is a way to standardize data points within a distribution, allowing for comparison across different scales or distributions.\n",
        "\n",
        "df[(z_scores > 3)]"
      ],
      "metadata": {
        "id": "0TdDqtF15rj-"
      },
      "execution_count": null,
      "outputs": []
    },
    {
      "cell_type": "markdown",
      "source": [
        "No rows with a z-score over three."
      ],
      "metadata": {
        "id": "y2vFI1VN5ure"
      }
    },
    {
      "cell_type": "code",
      "source": [
        "# Create a z-score for the column 'tenure'\n",
        "\n",
        "from scipy import stats\n",
        "\n",
        "z_scores = stats.zscore(df['tenure'])\n",
        "\n",
        "# Display the z-scores\n",
        "z_scores"
      ],
      "metadata": {
        "id": "UvnlEEXs8OZp"
      },
      "execution_count": null,
      "outputs": []
    },
    {
      "cell_type": "code",
      "source": [
        "# Tenure appears to not have any outliers.\n",
        "\n",
        "# Check rows with a z-score over 3.\n",
        "\n",
        "df[(z_scores > 3)]"
      ],
      "metadata": {
        "id": "CK5T6ub-8ZJo"
      },
      "execution_count": null,
      "outputs": []
    },
    {
      "cell_type": "markdown",
      "source": [
        "## Step 5. Encode Categorical Values\n",
        "\n",
        "Note: After one-hot encodeing, the object fields turn into integers. See the course here for more information about one-hot encoding (or encoding categorical values)."
      ],
      "metadata": {
        "id": "XVoECKrIpooR"
      }
    },
    {
      "source": [
        "categorical_columns = df.select_dtypes(include=['object']).columns\n",
        "print(categorical_columns)"
      ],
      "cell_type": "code",
      "metadata": {
        "id": "_JmwJUIQvA9m"
      },
      "execution_count": null,
      "outputs": []
    },
    {
      "cell_type": "markdown",
      "source": [],
      "metadata": {
        "id": "L_2bFRr1qi0o"
      }
    },
    {
      "cell_type": "code",
      "source": [
        "#NOTE: Do not include zip code. We will need Zip Code for EDA and clustering analysis.\n",
        "\n",
        "from sklearn.preprocessing import LabelEncoder\n",
        "\n",
        "categorical_columns = ['customer_id', 'city', 'offer', 'phone_service',\n",
        "       'multiple_lines', 'internet_service', 'internet_type',\n",
        "       'online_security', 'online_backup', 'device_protection_plan',\n",
        "       'premium_tech_support', 'streaming_tv', 'streaming_movies',\n",
        "       'unlimited_data', 'contract', 'payment_method', 'gender', 'married',\n",
        "       'churn']\n",
        "\n",
        "#--------------------------------------------------------------------------\n",
        "# EXERCISE STARTS HERE #\n",
        "\n",
        "# Enter the code to apply label encoding\n",
        "\n",
        "# Apply label encoding\n",
        "le = LabelEncoder()\n",
        "for col in categorical_columns:\n",
        "    df[col] = le.fit_transform(df[col].astype(str))\n",
        "\n",
        "\n",
        "\n",
        "\n"
      ],
      "metadata": {
        "id": "oqrlrbohse44"
      },
      "execution_count": null,
      "outputs": []
    },
    {
      "cell_type": "code",
      "source": [
        "# Verify data types adter encodiing\n",
        "df.dtypes"
      ],
      "metadata": {
        "id": "Pb7ku84DYPZ5"
      },
      "execution_count": null,
      "outputs": []
    },
    {
      "cell_type": "code",
      "source": [
        "df.head()"
      ],
      "metadata": {
        "id": "hJBnL19IvnqX"
      },
      "execution_count": null,
      "outputs": []
    },
    {
      "cell_type": "markdown",
      "source": [
        "## Step 6. Save the processed file"
      ],
      "metadata": {
        "id": "yrLfP1IK_jr4"
      }
    },
    {
      "cell_type": "markdown",
      "source": [],
      "metadata": {
        "id": "CXRutJRfrl1a"
      }
    },
    {
      "cell_type": "code",
      "source": [
        "# Save the clean file. We'll use it now for Data visualizaition and analytics.\n",
        "\n",
        "df.to_csv('cleaned_telecom.csv', index=False)\n"
      ],
      "metadata": {
        "id": "l5s8z4qg_ma8"
      },
      "execution_count": null,
      "outputs": []
    },
    {
      "cell_type": "markdown",
      "source": [
        "# Exploratory Data Analysis"
      ],
      "metadata": {
        "id": "h_C2KwceIJz7"
      }
    },
    {
      "cell_type": "markdown",
      "source": [
        "# EXERCISE #1\n"
      ],
      "metadata": {
        "id": "nJnHq5jGM8ph"
      }
    },
    {
      "cell_type": "code",
      "source": [
        "# Load the Dataset\n",
        "\n",
        "cleaned_df=pd.read_csv('/content/cleaned_telecom.csv')"
      ],
      "metadata": {
        "id": "lo3dH9uwIQTz"
      },
      "execution_count": null,
      "outputs": []
    },
    {
      "cell_type": "code",
      "source": [
        "cleaned_df.head()"
      ],
      "metadata": {
        "id": "OTGDNriAJblT"
      },
      "execution_count": null,
      "outputs": []
    },
    {
      "cell_type": "code",
      "source": [
        "cleaned_df.info()"
      ],
      "metadata": {
        "id": "Ih22cV11Jbn_"
      },
      "execution_count": null,
      "outputs": []
    },
    {
      "cell_type": "markdown",
      "source": [
        "## Bar Chart"
      ],
      "metadata": {
        "id": "jKvV5ljHJrgJ"
      }
    },
    {
      "cell_type": "markdown",
      "source": [
        "Count how contracts are distributed."
      ],
      "metadata": {
        "id": "N4ek7eAPKEzH"
      }
    },
    {
      "cell_type": "code",
      "source": [
        "# Bar Plot\n",
        "\n",
        "# EXERCISE #1\n",
        "#------------------------------------------------------------------\n",
        "\n",
        "\n",
        "\n",
        "\n"
      ],
      "metadata": {
        "id": "5Is1MKRCJbtQ"
      },
      "execution_count": null,
      "outputs": []
    },
    {
      "cell_type": "markdown",
      "source": [
        "Count the frequency of each contract."
      ],
      "metadata": {
        "id": "JakZQ_SpJ2xr"
      }
    },
    {
      "cell_type": "code",
      "source": [
        "# Mapping numeric values to contract type labels\n",
        "contract_mapping = {0: 'Month-to-Month', 1: 'One Year', 2: 'Two Year'}\n",
        "df['contract'] = df['contract'].map(contract_mapping)\n",
        "\n",
        "# Count the frequencies of each contract type\n",
        "contract_counts = df['contract'].value_counts()\n",
        "\n",
        "# Labels for the contract types\n",
        "labels = contract_counts.index\n",
        "\n",
        "# Create the bar chart\n",
        "plt.figure(figsize=(10, 6))\n",
        "plt.bar(labels, contract_counts, color=['#66b3ff', '#99ff99', '#ffcc99'])\n",
        "plt.xlabel(\"Contract Type\")\n",
        "plt.ylabel(\"Count\")\n",
        "plt.title(\"Contract Type Distribution\")\n",
        "plt.xticks(rotation=45)  # Rotate the x-axis labels for better readability\n",
        "plt.show()"
      ],
      "metadata": {
        "id": "UMzu0kQxJbvl"
      },
      "execution_count": null,
      "outputs": []
    },
    {
      "cell_type": "markdown",
      "source": [
        "Distribution of Payment Methods"
      ],
      "metadata": {
        "id": "h6-42ibiKyG-"
      }
    },
    {
      "cell_type": "code",
      "source": [
        "# Let's examine the payment methods and their frequencies by improving the plot.\n",
        "\n",
        "# Payment methods and their frequencies\n",
        "payment_methods = [0, 1, 2]\n",
        "frequencies = [4000, 3000, 500]\n",
        "labels = ['Credit Card', 'Bank Withdrawal', 'Mailed Check']  # Labels corresponding to the numeric values\n",
        "\n",
        "# Create the bar plot\n",
        "plt.bar(payment_methods, frequencies, tick_label=labels)  # Assign labels to bars\n",
        "\n",
        "# Add labels and title\n",
        "plt.xlabel(\"Payment Method\")\n",
        "plt.ylabel(\"Frequency\")\n",
        "plt.title(\"Distribution of Payment Methods\")\n",
        "\n",
        "# Show the plot\n",
        "plt.show()"
      ],
      "metadata": {
        "id": "THe3eJQXK0IH"
      },
      "execution_count": null,
      "outputs": []
    },
    {
      "cell_type": "markdown",
      "source": [
        "## Pie Chart"
      ],
      "metadata": {
        "id": "zn2g8n1pKLgg"
      }
    },
    {
      "cell_type": "markdown",
      "source": [
        "Contract type distribution in a Pie Chart."
      ],
      "metadata": {
        "id": "WNAMNnM2KTM0"
      }
    },
    {
      "cell_type": "code",
      "source": [
        "# Pie Chart\n",
        "\n",
        "# EXERCISE #2\n",
        "#------------------------------------------------------------------\n",
        "\n",
        "\n",
        "\n",
        "\n"
      ],
      "metadata": {
        "id": "IKdGLjkjJb0R"
      },
      "execution_count": null,
      "outputs": []
    },
    {
      "cell_type": "markdown",
      "source": [
        "## Scatter Plot"
      ],
      "metadata": {
        "id": "8viRv9tnKiZ1"
      }
    },
    {
      "cell_type": "markdown",
      "source": [
        "Tenure in Months vs. Total Revenue"
      ],
      "metadata": {
        "id": "geXQYPW1UWe4"
      }
    },
    {
      "cell_type": "code",
      "source": [
        "# Scatter Plot\n",
        "\n",
        "# EXERCISE #3\n",
        "#------------------------------------------------------------------\n",
        "\n",
        "\n",
        "\n"
      ],
      "metadata": {
        "id": "4gNhL5_BJb6g"
      },
      "execution_count": null,
      "outputs": []
    },
    {
      "cell_type": "markdown",
      "source": [
        "## Heat Map"
      ],
      "metadata": {
        "id": "q_zUdjFBKltt"
      }
    },
    {
      "cell_type": "markdown",
      "source": [
        "Here, we do two things in one code cell. We calculate the correlation matrix and print it so that you can see the numeric values in rows and columns. To visualize these numbers, we use Seaborn."
      ],
      "metadata": {
        "id": "m63rEmEuLLa3"
      }
    },
    {
      "cell_type": "code",
      "source": [
        "# Calculate the correlation matrix\n",
        "correlation_matrix = cleaned_df.corr()\n",
        "\n",
        "# Display the correlation matrix\n",
        "print(correlation_matrix)\n",
        "\n",
        "# Visualize the correlation matrix\n",
        "\n",
        "#------------------------------------------------------------------\n",
        "# EXERCISE #4\n",
        "# Enter code to visualize the correlation matrix.\n",
        "\n",
        "\n",
        "\n",
        "\n",
        "\n",
        "\n"
      ],
      "metadata": {
        "id": "4Fnn_W39LIz5"
      },
      "execution_count": null,
      "outputs": []
    },
    {
      "cell_type": "markdown",
      "source": [
        "Show the more meaningful relationships."
      ],
      "metadata": {
        "id": "e53FrXANLQWd"
      }
    },
    {
      "cell_type": "code",
      "source": [
        "# Calculate the correlation matrix\n",
        "corr = cleaned_df.corr()\n",
        "\n",
        "plt.figure(figsize=(20, 15))  # Adjust the size as needed\n",
        "sns.heatmap(corr[(corr >= 0.5) | (corr <= -0.7)],\n",
        "            cmap='viridis', vmax=1.0, vmin=-1.0, linewidths=0.1,\n",
        "            annot=True, annot_kws={\"size\": 10}, square=True)\n",
        "plt.tight_layout()\n",
        "plt.show()"
      ],
      "metadata": {
        "id": "8lQ1cZsILQh8"
      },
      "execution_count": null,
      "outputs": []
    },
    {
      "cell_type": "markdown",
      "source": [
        "## Histogram"
      ],
      "metadata": {
        "id": "HtS_hx8_LenW"
      }
    },
    {
      "cell_type": "markdown",
      "source": [
        "Histogram of Monthly Charges"
      ],
      "metadata": {
        "id": "0o3VSnTPLygR"
      }
    },
    {
      "cell_type": "code",
      "source": [
        "# Histogram  with KDE\n",
        "plt.figure(figsize=(10, 6))\n",
        "sns.histplot(df['monthly_charge'], kde=True)\n",
        "plt.title('Distribution of Monthly Charges')\n",
        "plt.xlabel('Monthly Charges')\n",
        "plt.ylabel('Frequency')\n",
        "plt.show()"
      ],
      "metadata": {
        "id": "UV61BWkSLeyB"
      },
      "execution_count": null,
      "outputs": []
    },
    {
      "cell_type": "markdown",
      "source": [
        "Histogram of Tenure"
      ],
      "metadata": {
        "id": "NDgUUsHNLmJt"
      }
    },
    {
      "cell_type": "code",
      "source": [
        "# Histogram of Tenure\n",
        "\n",
        "# EXERCISE #5\n",
        "#------------------------------------------------------------------\n",
        "\n",
        "\n",
        "\n",
        "\n"
      ],
      "metadata": {
        "id": "jWzHJVR3LmRr"
      },
      "execution_count": null,
      "outputs": []
    },
    {
      "cell_type": "markdown",
      "source": [
        "Distribution plot of revenue"
      ],
      "metadata": {
        "id": "-Zul6_JVL9xN"
      }
    },
    {
      "cell_type": "code",
      "source": [
        "# Distribution Plot\n",
        "\n",
        "# It is used basically for univariant set of observations and visualizes it through a histogram i.e. only one observation\n",
        "# and hence you choose one particular column of the dataset.\n",
        "sns.displot(cleaned_df['total_revenue'])"
      ],
      "metadata": {
        "id": "MMkx51JQMBiJ"
      },
      "execution_count": null,
      "outputs": []
    },
    {
      "cell_type": "markdown",
      "source": [
        "Churn Distribution"
      ],
      "metadata": {
        "id": "vHGBetU3MDlS"
      }
    },
    {
      "cell_type": "code",
      "source": [
        "# Count Plot\n",
        "plt.figure(figsize=(10, 6))\n",
        "sns.countplot(x='churn', data=df)\n",
        "plt.title('Churn Distribution')\n",
        "plt.xlabel('Churn')\n",
        "plt.ylabel('Count')\n",
        "plt.show()"
      ],
      "metadata": {
        "id": "NRXw-ppsMDt-"
      },
      "execution_count": null,
      "outputs": []
    },
    {
      "cell_type": "markdown",
      "source": [
        "# Simple Feature Engineering"
      ],
      "metadata": {
        "id": "u4aSA27VMg9f"
      }
    },
    {
      "cell_type": "markdown",
      "source": [
        "Create new features or transform existing ones to enhance the dataset’s predictive power.\n",
        "\n",
        "Customer Lifetime Value is a new feature - Total Revenue * Tenure."
      ],
      "metadata": {
        "id": "jVXhccNCMUqN"
      }
    },
    {
      "cell_type": "markdown",
      "source": [
        "## Customer Lifetime Value"
      ],
      "metadata": {
        "id": "97d8r_wuNmlg"
      }
    },
    {
      "cell_type": "code",
      "source": [
        "# Simple Feature Engineering\n",
        "\n",
        "# Assuming CLV can be approximated as Total Revenue * Tenure for simplicity\n",
        "cleaned_df['CLV'] = cleaned_df['total_revenue'] * cleaned_df['tenure']\n",
        "\n",
        "# Drop the Total Revenue and Tenure columns as they are now part of CLV\n",
        "\n",
        "# EXERCISE #6\n",
        "#------------------------------------------------------------------\n",
        "\n",
        "\n",
        "\n"
      ],
      "metadata": {
        "id": "ioNUVSy7MU19"
      },
      "execution_count": null,
      "outputs": []
    },
    {
      "cell_type": "code",
      "source": [
        "# Note that 30 columns are showing now and that CLV is now a feature - at the very end.\n",
        "\n",
        "cleaned_df.info()\n"
      ],
      "metadata": {
        "id": "Q2_KF01AM_Dc"
      },
      "execution_count": null,
      "outputs": []
    },
    {
      "cell_type": "markdown",
      "source": [
        "## Total Services Used"
      ],
      "metadata": {
        "id": "NVW_PiTENtLZ"
      }
    },
    {
      "cell_type": "code",
      "source": [
        "# Total Services Used\n",
        "cleaned_df['total_services_used'] = (cleaned_df['phone_service'] + cleaned_df['internet_service'] + cleaned_df['streaming_tv'] + cleaned_df['streaming_movies'] +\n",
        "                             cleaned_df['online_security'] + cleaned_df['online_backup'] + cleaned_df['device_protection_plan'] + cleaned_df['premium_tech_support'])\n"
      ],
      "metadata": {
        "id": "V3f_yj73NE0r"
      },
      "execution_count": null,
      "outputs": []
    },
    {
      "cell_type": "code",
      "source": [
        "# Total Services Used is now a new feature at the very end of the list.\n",
        "\n",
        "cleaned_df.info()"
      ],
      "metadata": {
        "id": "38LQbR4LNPQZ"
      },
      "execution_count": null,
      "outputs": []
    },
    {
      "cell_type": "markdown",
      "source": [
        "### SAVE the cleaned file: Run the Cell to save the cleaned file."
      ],
      "metadata": {
        "id": "YGP65D_GN5Ia"
      }
    },
    {
      "cell_type": "code",
      "source": [
        "# Save the clean file. We'll use it now for Data visualizaition and analytics.\n",
        "\n",
        "df.to_csv('eda_telecom.csv', index=False)\n"
      ],
      "metadata": {
        "id": "DSdsh8MJN5Rq"
      },
      "execution_count": null,
      "outputs": []
    }
  ]
}